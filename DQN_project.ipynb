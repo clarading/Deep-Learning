{
  "nbformat": 4,
  "nbformat_minor": 0,
  "metadata": {
    "colab": {
      "name": "DQN_project_MVA_done.ipynb",
      "provenance": [],
      "collapsed_sections": []
    },
    "kernelspec": {
      "display_name": "Python 3",
      "language": "python",
      "name": "python3"
    },
    "language_info": {
      "codemirror_mode": {
        "name": "ipython",
        "version": 3
      },
      "file_extension": ".py",
      "mimetype": "text/x-python",
      "name": "python",
      "nbconvert_exporter": "python",
      "pygments_lexer": "ipython3",
      "version": "3.7.1"
    },
    "widgets": {
      "application/vnd.jupyter.widget-state+json": {
        "18c14177542448dab366716667b25161": {
          "model_module": "@jupyter-widgets/controls",
          "model_name": "HBoxModel",
          "state": {
            "_view_name": "HBoxView",
            "_dom_classes": [],
            "_model_name": "HBoxModel",
            "_view_module": "@jupyter-widgets/controls",
            "_model_module_version": "1.5.0",
            "_view_count": null,
            "_view_module_version": "1.5.0",
            "box_style": "",
            "layout": "IPY_MODEL_57c3c5858ab14b2eb04080b384563c5b",
            "_model_module": "@jupyter-widgets/controls",
            "children": [
              "IPY_MODEL_62b4e0e315a941129461c168925a6a08",
              "IPY_MODEL_740c1fb4063947878ed45e2d22fd286c"
            ]
          }
        },
        "57c3c5858ab14b2eb04080b384563c5b": {
          "model_module": "@jupyter-widgets/base",
          "model_name": "LayoutModel",
          "state": {
            "_view_name": "LayoutView",
            "grid_template_rows": null,
            "right": null,
            "justify_content": null,
            "_view_module": "@jupyter-widgets/base",
            "overflow": null,
            "_model_module_version": "1.2.0",
            "_view_count": null,
            "flex_flow": null,
            "width": null,
            "min_width": null,
            "border": null,
            "align_items": null,
            "bottom": null,
            "_model_module": "@jupyter-widgets/base",
            "top": null,
            "grid_column": null,
            "overflow_y": null,
            "overflow_x": null,
            "grid_auto_flow": null,
            "grid_area": null,
            "grid_template_columns": null,
            "flex": null,
            "_model_name": "LayoutModel",
            "justify_items": null,
            "grid_row": null,
            "max_height": null,
            "align_content": null,
            "visibility": null,
            "align_self": null,
            "height": null,
            "min_height": null,
            "padding": null,
            "grid_auto_rows": null,
            "grid_gap": null,
            "max_width": null,
            "order": null,
            "_view_module_version": "1.2.0",
            "grid_template_areas": null,
            "object_position": null,
            "object_fit": null,
            "grid_auto_columns": null,
            "margin": null,
            "display": null,
            "left": null
          }
        },
        "62b4e0e315a941129461c168925a6a08": {
          "model_module": "@jupyter-widgets/controls",
          "model_name": "IntProgressModel",
          "state": {
            "_view_name": "ProgressView",
            "style": "IPY_MODEL_713209d1f6d642ca82a71f937c75bdc0",
            "_dom_classes": [],
            "description": "",
            "_model_name": "IntProgressModel",
            "bar_style": "success",
            "max": 11,
            "_view_module": "@jupyter-widgets/controls",
            "_model_module_version": "1.5.0",
            "value": 11,
            "_view_count": null,
            "_view_module_version": "1.5.0",
            "orientation": "horizontal",
            "min": 0,
            "description_tooltip": null,
            "_model_module": "@jupyter-widgets/controls",
            "layout": "IPY_MODEL_1eb229a8167b4b44a3da44e0d8c229fc"
          }
        },
        "740c1fb4063947878ed45e2d22fd286c": {
          "model_module": "@jupyter-widgets/controls",
          "model_name": "HTMLModel",
          "state": {
            "_view_name": "HTMLView",
            "style": "IPY_MODEL_3495a4a6fdb14cf6945a1be764dedc87",
            "_dom_classes": [],
            "description": "",
            "_model_name": "HTMLModel",
            "placeholder": "​",
            "_view_module": "@jupyter-widgets/controls",
            "_model_module_version": "1.5.0",
            "value": "100% 11/11 [01:11&lt;00:00,  6.59s/it]",
            "_view_count": null,
            "_view_module_version": "1.5.0",
            "description_tooltip": null,
            "_model_module": "@jupyter-widgets/controls",
            "layout": "IPY_MODEL_309c6de4b9e74a1386fd7f44d8190e75"
          }
        },
        "713209d1f6d642ca82a71f937c75bdc0": {
          "model_module": "@jupyter-widgets/controls",
          "model_name": "ProgressStyleModel",
          "state": {
            "_view_name": "StyleView",
            "_model_name": "ProgressStyleModel",
            "description_width": "",
            "_view_module": "@jupyter-widgets/base",
            "_model_module_version": "1.5.0",
            "_view_count": null,
            "_view_module_version": "1.2.0",
            "bar_color": null,
            "_model_module": "@jupyter-widgets/controls"
          }
        },
        "1eb229a8167b4b44a3da44e0d8c229fc": {
          "model_module": "@jupyter-widgets/base",
          "model_name": "LayoutModel",
          "state": {
            "_view_name": "LayoutView",
            "grid_template_rows": null,
            "right": null,
            "justify_content": null,
            "_view_module": "@jupyter-widgets/base",
            "overflow": null,
            "_model_module_version": "1.2.0",
            "_view_count": null,
            "flex_flow": null,
            "width": null,
            "min_width": null,
            "border": null,
            "align_items": null,
            "bottom": null,
            "_model_module": "@jupyter-widgets/base",
            "top": null,
            "grid_column": null,
            "overflow_y": null,
            "overflow_x": null,
            "grid_auto_flow": null,
            "grid_area": null,
            "grid_template_columns": null,
            "flex": null,
            "_model_name": "LayoutModel",
            "justify_items": null,
            "grid_row": null,
            "max_height": null,
            "align_content": null,
            "visibility": null,
            "align_self": null,
            "height": null,
            "min_height": null,
            "padding": null,
            "grid_auto_rows": null,
            "grid_gap": null,
            "max_width": null,
            "order": null,
            "_view_module_version": "1.2.0",
            "grid_template_areas": null,
            "object_position": null,
            "object_fit": null,
            "grid_auto_columns": null,
            "margin": null,
            "display": null,
            "left": null
          }
        },
        "3495a4a6fdb14cf6945a1be764dedc87": {
          "model_module": "@jupyter-widgets/controls",
          "model_name": "DescriptionStyleModel",
          "state": {
            "_view_name": "StyleView",
            "_model_name": "DescriptionStyleModel",
            "description_width": "",
            "_view_module": "@jupyter-widgets/base",
            "_model_module_version": "1.5.0",
            "_view_count": null,
            "_view_module_version": "1.2.0",
            "_model_module": "@jupyter-widgets/controls"
          }
        },
        "309c6de4b9e74a1386fd7f44d8190e75": {
          "model_module": "@jupyter-widgets/base",
          "model_name": "LayoutModel",
          "state": {
            "_view_name": "LayoutView",
            "grid_template_rows": null,
            "right": null,
            "justify_content": null,
            "_view_module": "@jupyter-widgets/base",
            "overflow": null,
            "_model_module_version": "1.2.0",
            "_view_count": null,
            "flex_flow": null,
            "width": null,
            "min_width": null,
            "border": null,
            "align_items": null,
            "bottom": null,
            "_model_module": "@jupyter-widgets/base",
            "top": null,
            "grid_column": null,
            "overflow_y": null,
            "overflow_x": null,
            "grid_auto_flow": null,
            "grid_area": null,
            "grid_template_columns": null,
            "flex": null,
            "_model_name": "LayoutModel",
            "justify_items": null,
            "grid_row": null,
            "max_height": null,
            "align_content": null,
            "visibility": null,
            "align_self": null,
            "height": null,
            "min_height": null,
            "padding": null,
            "grid_auto_rows": null,
            "grid_gap": null,
            "max_width": null,
            "order": null,
            "_view_module_version": "1.2.0",
            "grid_template_areas": null,
            "object_position": null,
            "object_fit": null,
            "grid_auto_columns": null,
            "margin": null,
            "display": null,
            "left": null
          }
        },
        "1356a5fe17e949cbb73084ed135ce609": {
          "model_module": "@jupyter-widgets/controls",
          "model_name": "HBoxModel",
          "state": {
            "_view_name": "HBoxView",
            "_dom_classes": [],
            "_model_name": "HBoxModel",
            "_view_module": "@jupyter-widgets/controls",
            "_model_module_version": "1.5.0",
            "_view_count": null,
            "_view_module_version": "1.5.0",
            "box_style": "",
            "layout": "IPY_MODEL_3f485ecb1e0c479788a504ad460eb8a1",
            "_model_module": "@jupyter-widgets/controls",
            "children": [
              "IPY_MODEL_059dee0205e3440e80e0d7275e1172b3",
              "IPY_MODEL_79e23fe89e4546a3b6e4397c40d05496"
            ]
          }
        },
        "3f485ecb1e0c479788a504ad460eb8a1": {
          "model_module": "@jupyter-widgets/base",
          "model_name": "LayoutModel",
          "state": {
            "_view_name": "LayoutView",
            "grid_template_rows": null,
            "right": null,
            "justify_content": null,
            "_view_module": "@jupyter-widgets/base",
            "overflow": null,
            "_model_module_version": "1.2.0",
            "_view_count": null,
            "flex_flow": null,
            "width": null,
            "min_width": null,
            "border": null,
            "align_items": null,
            "bottom": null,
            "_model_module": "@jupyter-widgets/base",
            "top": null,
            "grid_column": null,
            "overflow_y": null,
            "overflow_x": null,
            "grid_auto_flow": null,
            "grid_area": null,
            "grid_template_columns": null,
            "flex": null,
            "_model_name": "LayoutModel",
            "justify_items": null,
            "grid_row": null,
            "max_height": null,
            "align_content": null,
            "visibility": null,
            "align_self": null,
            "height": null,
            "min_height": null,
            "padding": null,
            "grid_auto_rows": null,
            "grid_gap": null,
            "max_width": null,
            "order": null,
            "_view_module_version": "1.2.0",
            "grid_template_areas": null,
            "object_position": null,
            "object_fit": null,
            "grid_auto_columns": null,
            "margin": null,
            "display": null,
            "left": null
          }
        },
        "059dee0205e3440e80e0d7275e1172b3": {
          "model_module": "@jupyter-widgets/controls",
          "model_name": "IntProgressModel",
          "state": {
            "_view_name": "ProgressView",
            "style": "IPY_MODEL_366b18b3d0454c9faa91abd61e7864bb",
            "_dom_classes": [],
            "description": "",
            "_model_name": "IntProgressModel",
            "bar_style": "success",
            "max": 11,
            "_view_module": "@jupyter-widgets/controls",
            "_model_module_version": "1.5.0",
            "value": 11,
            "_view_count": null,
            "_view_module_version": "1.5.0",
            "orientation": "horizontal",
            "min": 0,
            "description_tooltip": null,
            "_model_module": "@jupyter-widgets/controls",
            "layout": "IPY_MODEL_d05c5040156b425ab4735ad64210753b"
          }
        },
        "79e23fe89e4546a3b6e4397c40d05496": {
          "model_module": "@jupyter-widgets/controls",
          "model_name": "HTMLModel",
          "state": {
            "_view_name": "HTMLView",
            "style": "IPY_MODEL_774d89f04b794cf98f1fe272cfbd19ed",
            "_dom_classes": [],
            "description": "",
            "_model_name": "HTMLModel",
            "placeholder": "​",
            "_view_module": "@jupyter-widgets/controls",
            "_model_module_version": "1.5.0",
            "value": "100% 11/11 [01:28&lt;00:00,  8.17s/it]",
            "_view_count": null,
            "_view_module_version": "1.5.0",
            "description_tooltip": null,
            "_model_module": "@jupyter-widgets/controls",
            "layout": "IPY_MODEL_196dd903d0484095baf6887824314f83"
          }
        },
        "366b18b3d0454c9faa91abd61e7864bb": {
          "model_module": "@jupyter-widgets/controls",
          "model_name": "ProgressStyleModel",
          "state": {
            "_view_name": "StyleView",
            "_model_name": "ProgressStyleModel",
            "description_width": "",
            "_view_module": "@jupyter-widgets/base",
            "_model_module_version": "1.5.0",
            "_view_count": null,
            "_view_module_version": "1.2.0",
            "bar_color": null,
            "_model_module": "@jupyter-widgets/controls"
          }
        },
        "d05c5040156b425ab4735ad64210753b": {
          "model_module": "@jupyter-widgets/base",
          "model_name": "LayoutModel",
          "state": {
            "_view_name": "LayoutView",
            "grid_template_rows": null,
            "right": null,
            "justify_content": null,
            "_view_module": "@jupyter-widgets/base",
            "overflow": null,
            "_model_module_version": "1.2.0",
            "_view_count": null,
            "flex_flow": null,
            "width": null,
            "min_width": null,
            "border": null,
            "align_items": null,
            "bottom": null,
            "_model_module": "@jupyter-widgets/base",
            "top": null,
            "grid_column": null,
            "overflow_y": null,
            "overflow_x": null,
            "grid_auto_flow": null,
            "grid_area": null,
            "grid_template_columns": null,
            "flex": null,
            "_model_name": "LayoutModel",
            "justify_items": null,
            "grid_row": null,
            "max_height": null,
            "align_content": null,
            "visibility": null,
            "align_self": null,
            "height": null,
            "min_height": null,
            "padding": null,
            "grid_auto_rows": null,
            "grid_gap": null,
            "max_width": null,
            "order": null,
            "_view_module_version": "1.2.0",
            "grid_template_areas": null,
            "object_position": null,
            "object_fit": null,
            "grid_auto_columns": null,
            "margin": null,
            "display": null,
            "left": null
          }
        },
        "774d89f04b794cf98f1fe272cfbd19ed": {
          "model_module": "@jupyter-widgets/controls",
          "model_name": "DescriptionStyleModel",
          "state": {
            "_view_name": "StyleView",
            "_model_name": "DescriptionStyleModel",
            "description_width": "",
            "_view_module": "@jupyter-widgets/base",
            "_model_module_version": "1.5.0",
            "_view_count": null,
            "_view_module_version": "1.2.0",
            "_model_module": "@jupyter-widgets/controls"
          }
        },
        "196dd903d0484095baf6887824314f83": {
          "model_module": "@jupyter-widgets/base",
          "model_name": "LayoutModel",
          "state": {
            "_view_name": "LayoutView",
            "grid_template_rows": null,
            "right": null,
            "justify_content": null,
            "_view_module": "@jupyter-widgets/base",
            "overflow": null,
            "_model_module_version": "1.2.0",
            "_view_count": null,
            "flex_flow": null,
            "width": null,
            "min_width": null,
            "border": null,
            "align_items": null,
            "bottom": null,
            "_model_module": "@jupyter-widgets/base",
            "top": null,
            "grid_column": null,
            "overflow_y": null,
            "overflow_x": null,
            "grid_auto_flow": null,
            "grid_area": null,
            "grid_template_columns": null,
            "flex": null,
            "_model_name": "LayoutModel",
            "justify_items": null,
            "grid_row": null,
            "max_height": null,
            "align_content": null,
            "visibility": null,
            "align_self": null,
            "height": null,
            "min_height": null,
            "padding": null,
            "grid_auto_rows": null,
            "grid_gap": null,
            "max_width": null,
            "order": null,
            "_view_module_version": "1.2.0",
            "grid_template_areas": null,
            "object_position": null,
            "object_fit": null,
            "grid_auto_columns": null,
            "margin": null,
            "display": null,
            "left": null
          }
        },
        "1eb543c479d542b2be015280255a72b7": {
          "model_module": "@jupyter-widgets/controls",
          "model_name": "HBoxModel",
          "state": {
            "_view_name": "HBoxView",
            "_dom_classes": [],
            "_model_name": "HBoxModel",
            "_view_module": "@jupyter-widgets/controls",
            "_model_module_version": "1.5.0",
            "_view_count": null,
            "_view_module_version": "1.5.0",
            "box_style": "",
            "layout": "IPY_MODEL_bb5763e5a8094b399a52b22eac4535ab",
            "_model_module": "@jupyter-widgets/controls",
            "children": [
              "IPY_MODEL_59987aa402e34417b45b9417dfb0b616",
              "IPY_MODEL_3cc2d5712893467b92950c72aa5b282d"
            ]
          }
        },
        "bb5763e5a8094b399a52b22eac4535ab": {
          "model_module": "@jupyter-widgets/base",
          "model_name": "LayoutModel",
          "state": {
            "_view_name": "LayoutView",
            "grid_template_rows": null,
            "right": null,
            "justify_content": null,
            "_view_module": "@jupyter-widgets/base",
            "overflow": null,
            "_model_module_version": "1.2.0",
            "_view_count": null,
            "flex_flow": null,
            "width": null,
            "min_width": null,
            "border": null,
            "align_items": null,
            "bottom": null,
            "_model_module": "@jupyter-widgets/base",
            "top": null,
            "grid_column": null,
            "overflow_y": null,
            "overflow_x": null,
            "grid_auto_flow": null,
            "grid_area": null,
            "grid_template_columns": null,
            "flex": null,
            "_model_name": "LayoutModel",
            "justify_items": null,
            "grid_row": null,
            "max_height": null,
            "align_content": null,
            "visibility": null,
            "align_self": null,
            "height": null,
            "min_height": null,
            "padding": null,
            "grid_auto_rows": null,
            "grid_gap": null,
            "max_width": null,
            "order": null,
            "_view_module_version": "1.2.0",
            "grid_template_areas": null,
            "object_position": null,
            "object_fit": null,
            "grid_auto_columns": null,
            "margin": null,
            "display": null,
            "left": null
          }
        },
        "59987aa402e34417b45b9417dfb0b616": {
          "model_module": "@jupyter-widgets/controls",
          "model_name": "IntProgressModel",
          "state": {
            "_view_name": "ProgressView",
            "style": "IPY_MODEL_35d04aac9e2f494fb72c7238b519fde7",
            "_dom_classes": [],
            "description": "",
            "_model_name": "IntProgressModel",
            "bar_style": "success",
            "max": 21,
            "_view_module": "@jupyter-widgets/controls",
            "_model_module_version": "1.5.0",
            "value": 21,
            "_view_count": null,
            "_view_module_version": "1.5.0",
            "orientation": "horizontal",
            "min": 0,
            "description_tooltip": null,
            "_model_module": "@jupyter-widgets/controls",
            "layout": "IPY_MODEL_7e2c70222f3c4220b6df2911c3f7122a"
          }
        },
        "3cc2d5712893467b92950c72aa5b282d": {
          "model_module": "@jupyter-widgets/controls",
          "model_name": "HTMLModel",
          "state": {
            "_view_name": "HTMLView",
            "style": "IPY_MODEL_235f3375e267400f8b23702654a749b1",
            "_dom_classes": [],
            "description": "",
            "_model_name": "HTMLModel",
            "placeholder": "​",
            "_view_module": "@jupyter-widgets/controls",
            "_model_module_version": "1.5.0",
            "value": "100% 21/21 [02:49&lt;00:00,  8.07s/it]",
            "_view_count": null,
            "_view_module_version": "1.5.0",
            "description_tooltip": null,
            "_model_module": "@jupyter-widgets/controls",
            "layout": "IPY_MODEL_585d1f230d80449b843073f1754d628f"
          }
        },
        "35d04aac9e2f494fb72c7238b519fde7": {
          "model_module": "@jupyter-widgets/controls",
          "model_name": "ProgressStyleModel",
          "state": {
            "_view_name": "StyleView",
            "_model_name": "ProgressStyleModel",
            "description_width": "",
            "_view_module": "@jupyter-widgets/base",
            "_model_module_version": "1.5.0",
            "_view_count": null,
            "_view_module_version": "1.2.0",
            "bar_color": null,
            "_model_module": "@jupyter-widgets/controls"
          }
        },
        "7e2c70222f3c4220b6df2911c3f7122a": {
          "model_module": "@jupyter-widgets/base",
          "model_name": "LayoutModel",
          "state": {
            "_view_name": "LayoutView",
            "grid_template_rows": null,
            "right": null,
            "justify_content": null,
            "_view_module": "@jupyter-widgets/base",
            "overflow": null,
            "_model_module_version": "1.2.0",
            "_view_count": null,
            "flex_flow": null,
            "width": null,
            "min_width": null,
            "border": null,
            "align_items": null,
            "bottom": null,
            "_model_module": "@jupyter-widgets/base",
            "top": null,
            "grid_column": null,
            "overflow_y": null,
            "overflow_x": null,
            "grid_auto_flow": null,
            "grid_area": null,
            "grid_template_columns": null,
            "flex": null,
            "_model_name": "LayoutModel",
            "justify_items": null,
            "grid_row": null,
            "max_height": null,
            "align_content": null,
            "visibility": null,
            "align_self": null,
            "height": null,
            "min_height": null,
            "padding": null,
            "grid_auto_rows": null,
            "grid_gap": null,
            "max_width": null,
            "order": null,
            "_view_module_version": "1.2.0",
            "grid_template_areas": null,
            "object_position": null,
            "object_fit": null,
            "grid_auto_columns": null,
            "margin": null,
            "display": null,
            "left": null
          }
        },
        "235f3375e267400f8b23702654a749b1": {
          "model_module": "@jupyter-widgets/controls",
          "model_name": "DescriptionStyleModel",
          "state": {
            "_view_name": "StyleView",
            "_model_name": "DescriptionStyleModel",
            "description_width": "",
            "_view_module": "@jupyter-widgets/base",
            "_model_module_version": "1.5.0",
            "_view_count": null,
            "_view_module_version": "1.2.0",
            "_model_module": "@jupyter-widgets/controls"
          }
        },
        "585d1f230d80449b843073f1754d628f": {
          "model_module": "@jupyter-widgets/base",
          "model_name": "LayoutModel",
          "state": {
            "_view_name": "LayoutView",
            "grid_template_rows": null,
            "right": null,
            "justify_content": null,
            "_view_module": "@jupyter-widgets/base",
            "overflow": null,
            "_model_module_version": "1.2.0",
            "_view_count": null,
            "flex_flow": null,
            "width": null,
            "min_width": null,
            "border": null,
            "align_items": null,
            "bottom": null,
            "_model_module": "@jupyter-widgets/base",
            "top": null,
            "grid_column": null,
            "overflow_y": null,
            "overflow_x": null,
            "grid_auto_flow": null,
            "grid_area": null,
            "grid_template_columns": null,
            "flex": null,
            "_model_name": "LayoutModel",
            "justify_items": null,
            "grid_row": null,
            "max_height": null,
            "align_content": null,
            "visibility": null,
            "align_self": null,
            "height": null,
            "min_height": null,
            "padding": null,
            "grid_auto_rows": null,
            "grid_gap": null,
            "max_width": null,
            "order": null,
            "_view_module_version": "1.2.0",
            "grid_template_areas": null,
            "object_position": null,
            "object_fit": null,
            "grid_auto_columns": null,
            "margin": null,
            "display": null,
            "left": null
          }
        }
      }
    }
  },
  "cells": [
    {
      "cell_type": "markdown",
      "metadata": {
        "colab_type": "text",
        "id": "OH0f011iN80u"
      },
      "source": [
        "**You may need to install [OpenCV](https://pypi.python.org/pypi/opencv-python) and [scikit-video](http://www.scikit-video.org/stable/).**"
      ]
    },
    {
      "cell_type": "code",
      "metadata": {
        "colab_type": "code",
        "id": "Cs26z1IEOBfH",
        "outputId": "ff543ca7-28be-4f2a-d9ee-104c287aca20",
        "colab": {
          "base_uri": "https://localhost:8080/",
          "height": 88
        }
      },
      "source": [
        "!pip install scikit-video"
      ],
      "execution_count": 27,
      "outputs": [
        {
          "output_type": "stream",
          "text": [
            "Requirement already satisfied: scikit-video in /usr/local/lib/python3.6/dist-packages (1.1.11)\n",
            "Requirement already satisfied: scipy in /usr/local/lib/python3.6/dist-packages (from scikit-video) (1.4.1)\n",
            "Requirement already satisfied: numpy in /usr/local/lib/python3.6/dist-packages (from scikit-video) (1.17.5)\n",
            "Requirement already satisfied: pillow in /usr/local/lib/python3.6/dist-packages (from scikit-video) (6.2.2)\n"
          ],
          "name": "stdout"
        }
      ]
    },
    {
      "cell_type": "code",
      "metadata": {
        "colab_type": "code",
        "id": "_PQW2LahN802",
        "colab": {}
      },
      "source": [
        "import keras\n",
        "import numpy as np\n",
        "import io\n",
        "import base64\n",
        "from IPython.display import HTML\n",
        "import skvideo.io\n",
        "import cv2\n",
        "import json\n",
        "import random\n",
        "import tqdm as tqdm\n",
        "\n",
        "from keras.models import Sequential, model_from_json\n",
        "from keras.layers.core import Dense, Dropout\n",
        "from keras.optimizers import sgd, adam\n",
        "from keras.layers import Conv2D, MaxPooling2D, Activation, AveragePooling2D, Reshape, BatchNormalization, Flatten"
      ],
      "execution_count": 0,
      "outputs": []
    },
    {
      "cell_type": "code",
      "metadata": {
        "colab_type": "code",
        "id": "S79YmMnc5Lrh",
        "colab": {}
      },
      "source": [
        "import warnings\n",
        "warnings.filterwarnings(\"ignore\") # only if needed"
      ],
      "execution_count": 0,
      "outputs": []
    },
    {
      "cell_type": "markdown",
      "metadata": {
        "colab_type": "text",
        "id": "ISppyWUIN81Q"
      },
      "source": [
        "# MiniProject on Deep Reinforcement Learning"
      ]
    },
    {
      "cell_type": "markdown",
      "metadata": {
        "colab_type": "text",
        "id": "XmSFBK7pN81V"
      },
      "source": [
        "__Notations__: $E_p$ is the expectation under probability $p$. Please justify each of your answer and widely comment your code."
      ]
    },
    {
      "cell_type": "markdown",
      "metadata": {
        "colab_type": "text",
        "id": "EUuEteCiN81Z"
      },
      "source": [
        "# Context"
      ]
    },
    {
      "cell_type": "markdown",
      "metadata": {
        "colab_type": "text",
        "id": "Nh6WXl58N81f"
      },
      "source": [
        "In a reinforcement learning algorithm, we modelize each step $t$ as an action $a_t$ obtained from a state $s_t$, i.e. $\\{(a_{t},s_{t})_{t\\leq T}\\}$ having the Markov property. We consider a discount factor $\\gamma \\in [0,1]$ that ensures convergence. The goal is to find among all the policies $\\pi$, one that maximizes the expected reward:\n",
        "\n",
        "\\begin{equation*}\n",
        "R(\\pi)=\\sum_{t\\leq T}E_{p^{\\pi}}[\\gamma^t r(s_{t},a_{t})] \\> ,\n",
        "\\end{equation*}\n",
        "\n",
        "where: \n",
        "\\begin{equation*}p^{\\pi}(a_{0},a_{1},s_{1},...,a_{T},s_{T})=p(a_{0})\\prod_{t=1}^{T}\\pi(a_{t}|s_{t})p(s_{t+1}|s_{t},a_{t}) \\> .\n",
        "\\end{equation*}\n",
        "\n",
        "We note the $Q$-function:\n",
        "\n",
        "\\begin{equation*}Q^\\pi(s,a)=E_{p^{\\pi}}[\\sum_{t\\leq T}\\gamma^{t}r(s_{t},a_{t})|s_{0}=s,a_{0}=a] \\> .\n",
        "\\end{equation*}\n",
        "\n",
        "Thus, the optimal Q function is:\n",
        "\\begin{equation*}\n",
        "Q^*(s,a)=\\max_{\\pi}Q^\\pi(s,a) \\> .\n",
        "\\end{equation*}\n",
        "\n",
        "In this project, we will apply the deep reinforcement learning techniques to a simple game: an agent will have to learn from scratch a policy that will permit it maximizing a reward."
      ]
    },
    {
      "cell_type": "markdown",
      "metadata": {
        "colab_type": "text",
        "id": "8RF-COsLN81h"
      },
      "source": [
        "## The environment, the agent and the game"
      ]
    },
    {
      "cell_type": "markdown",
      "metadata": {
        "colab_type": "text",
        "id": "YFwO_48UN81k"
      },
      "source": [
        "### The environment"
      ]
    },
    {
      "cell_type": "markdown",
      "metadata": {
        "colab_type": "text",
        "id": "ou35Q6NeN81r"
      },
      "source": [
        "```Environment``` is an abstract class that represents the states, rewards, and actions to obtain the new state."
      ]
    },
    {
      "cell_type": "code",
      "metadata": {
        "colab_type": "code",
        "id": "HA_RK8bGN81v",
        "colab": {}
      },
      "source": [
        "class Environment(object):\n",
        "    def __init__(self):\n",
        "        pass\n",
        "\n",
        "    def act(self, act):\n",
        "        \"\"\"\n",
        "        One can act on the environment and obtain its reaction:\n",
        "        - the new state\n",
        "        - the reward of the new state\n",
        "        - should we continue the game?\n",
        "\n",
        "        :return: state, reward, game_over\n",
        "        \"\"\"\n",
        "        pass\n",
        "\n",
        "\n",
        "    def reset(self):\n",
        "        \"\"\"\n",
        "        Reinitialize the environment to a random state and returns\n",
        "        the original state\n",
        "\n",
        "        :return: state\n",
        "        \"\"\"\n",
        "        pass\n",
        "    \n",
        "    def draw(self):\n",
        "        \"\"\"\n",
        "        Visualize in the console or graphically the current state\n",
        "        \"\"\"\n",
        "        pass"
      ],
      "execution_count": 0,
      "outputs": []
    },
    {
      "cell_type": "markdown",
      "metadata": {
        "colab_type": "text",
        "id": "hgTFv8h-N818"
      },
      "source": [
        "The method ```act``` allows to act on the environment at a given state $s_t$ (stored internally), via action $a_t$. The method will return the new state $s_{t+1}$, the reward $r(s_{t},a_{t})$ and determines if $t\\leq T$ (*game_over*).\n",
        "\n",
        "The method ```reset``` simply reinitializes the environment to a random state $s_0$.\n",
        "\n",
        "The method ```draw``` displays the current state $s_t$ (this is useful to check the behavior of the Agent).\n",
        "\n",
        "We modelize $s_t$ as a tensor, while $a_t$ is an integer."
      ]
    },
    {
      "cell_type": "markdown",
      "metadata": {
        "colab_type": "text",
        "id": "0pScmDf2N82B"
      },
      "source": [
        "### The Agent"
      ]
    },
    {
      "cell_type": "markdown",
      "metadata": {
        "colab_type": "text",
        "id": "C6m3v8yoN82F"
      },
      "source": [
        "The goal of the ```Agent``` is to interact with the ```Environment``` by proposing actions $a_t$ obtained from a given state $s_t$ to attempt to maximize its __reward__ $r(s_t,a_t)$. We propose the following abstract class:"
      ]
    },
    {
      "cell_type": "code",
      "metadata": {
        "colab_type": "code",
        "id": "RXwuCF4mN82I",
        "colab": {}
      },
      "source": [
        "class Agent(object):\n",
        "    def __init__(self, epsilon=0.1, n_action=4):\n",
        "        self.epsilon = epsilon\n",
        "        self.n_action = n_action\n",
        "    \n",
        "    def set_epsilon(self,e):\n",
        "        self.epsilon = e\n",
        "\n",
        "    def act(self,s,train=True):\n",
        "        \"\"\" This function should return the next action to do:\n",
        "        an integer between 0 and 4 (not included) with a random exploration of epsilon\"\"\"\n",
        "        if train:\n",
        "            if np.random.rand() <= self.epsilon:\n",
        "                a = np.random.randint(0, self.n_action, size=1)[0]\n",
        "            else:\n",
        "                a = self.learned_act(s)\n",
        "        else: # in some cases, this can improve the performance.. remove it if poor performances\n",
        "            a = self.learned_act(s)\n",
        "\n",
        "        return a\n",
        "\n",
        "    def learned_act(self,s):\n",
        "        \"\"\" Act via the policy of the agent, from a given state s\n",
        "        it proposes an action a\"\"\"\n",
        "        pass\n",
        "\n",
        "    def reinforce(self, s, n_s, a, r, game_over_):\n",
        "        \"\"\" This function is the core of the learning algorithm. \n",
        "        It takes as an input the current state s_, the next state n_s_\n",
        "        the action a_ used to move from s_ to n_s_ and the reward r_.\n",
        "        \n",
        "        Its goal is to learn a policy.\n",
        "        \"\"\"\n",
        "        pass\n",
        "\n",
        "    def save(self):\n",
        "        \"\"\" This function returns basic stats if applicable: the\n",
        "        loss and/or the model\"\"\"\n",
        "        pass\n",
        "\n",
        "    def load(self):\n",
        "        \"\"\" This function allows to restore a model\"\"\"\n",
        "        pass"
      ],
      "execution_count": 0,
      "outputs": []
    },
    {
      "cell_type": "markdown",
      "metadata": {
        "colab_type": "text",
        "id": "M1baFVzQN82S"
      },
      "source": [
        "***\n",
        "__Question 1__:\n",
        "Explain the function act. Why is ```epsilon``` essential?"
      ]
    },
    {
      "cell_type": "markdown",
      "metadata": {
        "colab_type": "text",
        "id": "NKMVS2T9N82U"
      },
      "source": [
        "Given a state `s`, the `act` function will return the action to take. Note that here, we do not pick the \"best\" action everytime (determined from the past history). With probability `epsilon` (the exploration parameter), we pick a uniformly random action. This exploration parameter `epsilon` is essential in order to explore other options and also to try getting out of a local minima."
      ]
    },
    {
      "cell_type": "markdown",
      "metadata": {
        "colab_type": "text",
        "id": "RqUG45FjN82Y"
      },
      "source": [
        "***\n",
        "### The Game"
      ]
    },
    {
      "cell_type": "markdown",
      "metadata": {
        "colab_type": "text",
        "id": "YR06BXpcN82b"
      },
      "source": [
        "The ```Agent``` and the ```Environment``` work in an interlaced way as in the following (take some time to understand this code as it is the core of the project)\n",
        "\n",
        "```python\n",
        "\n",
        "epoch = 300\n",
        "env = Environment()\n",
        "agent = Agent()\n",
        "\n",
        "\n",
        "# Number of won games\n",
        "score = 0\n",
        "loss = 0\n",
        "\n",
        "\n",
        "for e in range(epoch):\n",
        "    # At each epoch, we restart to a fresh game and get the initial state\n",
        "    state = env.reset()\n",
        "    # This assumes that the games will end\n",
        "    game_over = False\n",
        "\n",
        "    win = 0\n",
        "    lose = 0\n",
        "    \n",
        "    while not game_over:\n",
        "        # The agent performs an action\n",
        "        action = agent.act(state)\n",
        "\n",
        "        # Apply an action to the environment, get the next state, the reward\n",
        "        # and if the games end\n",
        "        prev_state = state\n",
        "        state, reward, game_over = env.act(action)\n",
        "\n",
        "        # Update the counters\n",
        "        if reward > 0:\n",
        "            win = win + reward\n",
        "        if reward < 0:\n",
        "            lose = lose -reward\n",
        "\n",
        "        # Apply the reinforcement strategy\n",
        "        loss = agent.reinforce(prev_state, state,  action, reward, game_over)\n",
        "\n",
        "    # Save as a mp4\n",
        "    if e % 10 == 0:\n",
        "        env.draw(e)\n",
        "\n",
        "    # Update stats\n",
        "    score += win-lose\n",
        "\n",
        "    print(\"Epoch {:03d}/{:03d} | Loss {:.4f} | Win/lose count {}/{} ({})\"\n",
        "          .format(e, epoch, loss, win, lose, win-lose))\n",
        "    agent.save()\n",
        "```"
      ]
    },
    {
      "cell_type": "markdown",
      "metadata": {
        "colab_type": "text",
        "id": "I8uZdWL4N82e"
      },
      "source": [
        "# The game, *eat cheese*"
      ]
    },
    {
      "cell_type": "markdown",
      "metadata": {
        "colab_type": "text",
        "id": "Ny7y6SteN82h"
      },
      "source": [
        "A rat runs on an island and tries to eat as much as possible. The island is subdivided into $N\\times N$ cells, in which there are cheese (+0.5) and poisonous cells (-1). The rat has a visibility of 2 cells (thus it can see $5^2$ cells). The rat is given a time $T$ to accumulate as much food as possible. It can perform 4 actions: going up, down, left, right. \n",
        "\n",
        "The goal is to code an agent to solve this task that will learn by trial and error. We propose the following environment:"
      ]
    },
    {
      "cell_type": "code",
      "metadata": {
        "colab_type": "code",
        "id": "zZq8g2_hN82k",
        "colab": {}
      },
      "source": [
        "class Environment(object):\n",
        "    def __init__(self, grid_size=10, max_time=500, temperature=0.1):\n",
        "        grid_size = grid_size + 4 # We extend the grid size by 2 on side (top/bottom, and left/right, so by 4 total) in order to describe the borders (limits of the env.)\n",
        "        self.grid_size = grid_size # save the grid size\n",
        "        self.max_time = max_time # T, how much time before the game is over\n",
        "        self.temperature = temperature # ~probability of having a cheese, poison in each cell (not quite accurate as the poison will depend on cheese, see code later)\n",
        "\n",
        "        #board on which one plays\n",
        "        self.board = np.zeros((grid_size, grid_size)) # initialise the bonus/malus board to zero: reward\n",
        "        self.position = np.zeros((grid_size, grid_size)) # initialise the board (what the rat sees/ where is the rat/borders)\n",
        "\n",
        "        # coordinate of the rat\n",
        "        self.x = 0 # starting position x\n",
        "        self.y = 1 # starting position y\n",
        "\n",
        "        # self time\n",
        "        self.t = 0 # initialize the time t=0\n",
        "\n",
        "        self.scale = 16 # scale factor along the vertical axis (OpenCV)\n",
        "\n",
        "        self.to_draw = np.zeros((max_time + 2, grid_size * self.scale, grid_size * self.scale, 3)) # for the video\n",
        "\n",
        "\n",
        "    def draw(self, e):\n",
        "        skvideo.io.vwrite(str(e) + '.mp4', self.to_draw) # display the video (e: look for the number of epoch)\n",
        "\n",
        "    def get_frame(self, t):\n",
        "        #we chose to change the colours of the original video to have a more intuitive colour code\n",
        "        b = np.zeros((self.grid_size, self.grid_size, 3)) + 128 # neutral cells are grey (128, 128, 128) in rgb\n",
        "        b[self.board > 0, 0] = 255 # cheese cells are yellow (255, 255, 0) in rgb \n",
        "        b[self.board > 0, 1] = 255 # cheese cells are yellow (255, 255, 0) in rgb\n",
        "        b[self.board > 0, 2] = 0 # cheese cells are yellow (255, 255, 0) in rgb\n",
        "        b[self.board < 0, 0] = 255 # poison cells are red (255, 0, 0) in rgb\n",
        "        b[self.board < 0, 1] = 0 # poison cells are red (255, 0, 0) in rgb\n",
        "        b[self.board < 0, 2] = 0 # poison cells are red (255, 0, 0) in rgb\n",
        "        b[self.x, self.y, 0] = 0 # rat's position is green (0, 128, 0) in rgb\n",
        "        b[self.x, self.y, 2] = 0 # rat's position is green (0, 128, 0) in rgb\n",
        "        b[self.x, self.y, 1] = 128 # rat's position is green (0, 128, 0) in rgb\n",
        "        b[-2:, :, :] = 0 # limit of the board is black\n",
        "        b[:, -2:, :] = 0 # limit of the board is black\n",
        "        b[:2, :, :] = 0 # limit of the board is black\n",
        "        b[:, :2, :] = 0 # limit of the board is black\n",
        "        \n",
        "        b =  cv2.resize(b, None, fx=self.scale, fy=self.scale, interpolation=cv2.INTER_NEAREST)\n",
        "\n",
        "        self.to_draw[t, :, :, :] = b # save the frame\n",
        "\n",
        "\n",
        "    def act(self, action):\n",
        "        \"\"\"This function returns the new state, reward and decides if the\n",
        "        game ends.\"\"\"\n",
        "\n",
        "        self.get_frame(int(self.t)) # stores the frame at time t\n",
        "\n",
        "        self.position = np.zeros((self.grid_size, self.grid_size)) # the board (what the rat sees/ where is the rat/borders)\n",
        "                                     \n",
        "        self.position[0:2, :] = -1   \n",
        "        self.position[:, 0:2] = -1  \n",
        "        self.position[-2:, :] = -1   \n",
        "        self.position[:, -2:] = -1   \n",
        "                                    \n",
        "        self.position[self.x, self.y] = 1 # 1 where the rat is\n",
        "        #if... else...: if rat tries to go into the wall/border, it goes opposite direction (~bounces back)\n",
        "        if action == 0: # right\n",
        "            if self.x == self.grid_size - 3: \n",
        "                self.x = self.x-1 \n",
        "            else:\n",
        "                self.x = self.x + 1 \n",
        "        elif action == 1: # left\n",
        "            if self.x == 2: \n",
        "                self.x = self.x+1 \n",
        "            else:\n",
        "                self.x = self.x-1\n",
        "        elif action == 2: # down\n",
        "            if self.y == self.grid_size - 3: \n",
        "                self.y = self.y - 1\n",
        "            else:\n",
        "                self.y = self.y + 1 \n",
        "        elif action == 3: # up\n",
        "            if self.y == 2: \n",
        "                self.y = self.y + 1 \n",
        "            else:\n",
        "                self.y = self.y - 1 \n",
        "        else:\n",
        "            RuntimeError('Error: action not recognized') \n",
        "\n",
        "        self.t = self.t + 1 # update the time\n",
        "        reward = self.board[self.x, self.y] # reward defines by the position\n",
        "        self.board[self.x, self.y] = 0 # we reset the reward at our position (we ate the poison/cheese)\n",
        "        game_over = self.t > self.max_time # game is over if t > T\n",
        "        state = np.concatenate((self.board.reshape(self.grid_size, self.grid_size, 1), # state of the game (board, position)\n",
        "                                self.position.reshape(self.grid_size, self.grid_size, 1)), axis=2)\n",
        "        state = state[self.x - 2:self.x + 3, self.y - 2:self.y + 3, :] # we can only see the area around the rat (5 * 5)\n",
        "        return state, reward, game_over\n",
        "\n",
        "    def reset(self):\n",
        "        \"\"\"This function resets the game and returns the initial state\"\"\"\n",
        "\n",
        "        # initialize a random position for the rat\n",
        "        self.x = np.random.randint(3, self.grid_size - 3)\n",
        "        self.y = np.random.randint(3, self.grid_size - 3)\n",
        "\n",
        "        # initialize the cheese\n",
        "        bonus = 0.5 * np.random.binomial(1, self.temperature, size=self.grid_size ** 2)\n",
        "        bonus = bonus.reshape(self.grid_size, self.grid_size)\n",
        "\n",
        "        # initialize the poison\n",
        "        malus = - 1.0 * np.random.binomial(1, self.temperature, size=self.grid_size ** 2)\n",
        "        malus = malus.reshape(self.grid_size, self.grid_size)\n",
        "\n",
        "        # clipboard animation initialization\n",
        "        self.to_draw = np.zeros((self.max_time + 2, self.grid_size * self.scale, self.grid_size * self.scale, 3))\n",
        "\n",
        "        #only keep poison if there was no cheese on the cell\n",
        "        malus[bonus > 0] = 0\n",
        "\n",
        "        # construct the final board with cheese and poison\n",
        "        self.board = bonus + malus\n",
        "\n",
        "        # initialize the position (add walls)\n",
        "        self.position = np.zeros((self.grid_size, self.grid_size))\n",
        "        self.position[0:2, :]= -1\n",
        "        self.position[:, 0:2] = -1\n",
        "        self.position[-2:, :] = -1\n",
        "        self.position[:, -2:] = -1\n",
        "\n",
        "        #initialize the position of the rat, delete cheese/poison on the cell he starts on\n",
        "        self.board[self.x, self.y] = 0\n",
        "\n",
        "        # initialize the time\n",
        "        self.t = 0\n",
        "\n",
        "        # construct the state using (board, position)\n",
        "        state = np.concatenate((self.board.reshape(self.grid_size, self.grid_size,1),\n",
        "                                self.position.reshape(self.grid_size, self.grid_size,1)),\n",
        "                               axis=2)\n",
        "        state = state[self.x - 2:self.x + 3, self.y - 2:self.y + 3, :] # we only see 5 * 5 around the (self.x, self.y)\n",
        "        return state"
      ],
      "execution_count": 0,
      "outputs": []
    },
    {
      "cell_type": "markdown",
      "metadata": {
        "colab_type": "text",
        "id": "m3fzfCiNN82v"
      },
      "source": [
        "The following elements are important because they correspond to the hyper parameters for this project:"
      ]
    },
    {
      "cell_type": "code",
      "metadata": {
        "colab_type": "code",
        "id": "ceqsjC5tN82y",
        "colab": {}
      },
      "source": [
        "# parameters\n",
        "size = 13 # grid size\n",
        "T = 200 # how much time before the game is over\n",
        "temperature = 0.3 # ~probability of having a cheese, poison in each cell (not quite accurate as the poison will depend on cheese, see above)\n",
        "epochs_train = 10 # set small when debugging\n",
        "epochs_test = 10 # set small when debugging\n",
        "\n",
        "# display videos\n",
        "def display_videos(name):\n",
        "    video = io.open(name, 'r+b').read()\n",
        "    encoded = base64.b64encode(video)\n",
        "    return '''<video alt=\"test\" controls>\n",
        "                <source src=\"data:video/mp4;base64,{0}\" type=\"video/mp4\" />\n",
        "             </video>'''.format(encoded.decode('ascii'))"
      ],
      "execution_count": 0,
      "outputs": []
    },
    {
      "cell_type": "markdown",
      "metadata": {
        "colab_type": "text",
        "id": "VHm5XyenN83B"
      },
      "source": [
        "__Question 2__ Explain the use of the arrays ```position``` and ```board```."
      ]
    },
    {
      "cell_type": "markdown",
      "metadata": {
        "colab_type": "text",
        "id": "vIK4trJzN83F"
      },
      "source": [
        "The `position` stores the board (which includes the \"walls\" of thickness 2, which are the limits of our environement) and we use it in order to move the rat. The `board` is used to store the reward (bonus/malus) and we use it to compute the reward."
      ]
    },
    {
      "cell_type": "markdown",
      "metadata": {
        "colab_type": "text",
        "id": "xRlViMooN83H"
      },
      "source": [
        "## Random Agent"
      ]
    },
    {
      "cell_type": "markdown",
      "metadata": {
        "colab_type": "text",
        "id": "fEXZ6zS1N83L"
      },
      "source": [
        "***\n",
        "__Question 3__ Implement a random Agent (only ```learned_act``` needs to be implemented):"
      ]
    },
    {
      "cell_type": "code",
      "metadata": {
        "colab_type": "code",
        "id": "OopgcqizN83P",
        "colab": {}
      },
      "source": [
        "class RandomAgent(Agent):\n",
        "    def __init__(self):\n",
        "        super(RandomAgent, self).__init__()\n",
        "        pass\n",
        "\n",
        "    def learned_act(self, s):\n",
        "        return np.random.choice(4) # choose uniformly in {1, 2, 3, 4}"
      ],
      "execution_count": 0,
      "outputs": []
    },
    {
      "cell_type": "markdown",
      "metadata": {
        "colab_type": "text",
        "id": "b8L4VPh0N83Z"
      },
      "source": [
        "***\n",
        "***\n",
        "__Question 4__ Visualize the game moves. You need to fill in the following function for the evaluation:"
      ]
    },
    {
      "cell_type": "code",
      "metadata": {
        "colab_type": "code",
        "id": "dFnWAgOwN83n",
        "colab": {}
      },
      "source": [
        "def test(agent, env, epochs, prefix=''):\n",
        "    # Number of won games\n",
        "    score = 0\n",
        "    \n",
        "    for e in range(epochs):\n",
        "        \n",
        "        ##### FILL IN HERE\n",
        "        state = env.reset() # reset env.\n",
        "        game_over = False # initialize game_over\n",
        "        win, lose = 0, 0 # initialize win/lose\n",
        "        while not game_over: # loop while game is not over\n",
        "            if prefix == 'random':\n",
        "                action = agent.learned_act(state) # take action with the agent\n",
        "            elif prefix == 'cnn_test_explore':\n",
        "                action = agent.learned_act(state.flatten().reshape(1, 5, 5, 3)) # take action with the agent\n",
        "            elif prefix == 'fc_train':\n",
        "                action = agent.learned_act(state.flatten().reshape(1, -1)) # take action with the agent\n",
        "            else:\n",
        "                action = agent.learned_act(state.reshape(1, 5, 5, 2)) # take action with the agent\n",
        "            \n",
        "            if prefix == 'cnn_test_explore':\n",
        "                state, reward, game_over = env.act(action, train=False) # update the env. with the action\n",
        "            else:\n",
        "                state, reward, game_over = env.act(action) # update the env. with the action\n",
        "            if reward > 0: # update win/lose\n",
        "                win += reward\n",
        "            else:\n",
        "                lose -= reward\n",
        "\n",
        "        # Save as a mp4\n",
        "        env.draw(prefix + str(e))\n",
        "\n",
        "        # Update score\n",
        "        score = score + win - lose\n",
        "\n",
        "        print(f\"Epoch {e}, win/lose count {win}/{lose}, average score ({np.round(score / (1 + e), 2)})\")\n",
        "    print(f'Final score: {score / epochs}')"
      ],
      "execution_count": 0,
      "outputs": []
    },
    {
      "cell_type": "code",
      "metadata": {
        "colab_type": "code",
        "id": "o0kK7GqHN83x",
        "outputId": "491d0089-c451-4924-ace7-c405bf6d2684",
        "colab": {
          "base_uri": "https://localhost:8080/",
          "height": 402
        }
      },
      "source": [
        "# Initialize the game\n",
        "env = Environment(grid_size=size, max_time=T, temperature=temperature)\n",
        "\n",
        "# Initialize the agent!\n",
        "agent = RandomAgent()\n",
        "\n",
        "# run the agent\n",
        "test(agent, env, epochs_test, prefix='random')\n",
        "\n",
        "# display the result\n",
        "print(\"\\nCheese in yellow and poison in red\")\n",
        "HTML(display_videos('random0.mp4')) # don't need to look at the later videos as the action is completely random anyways"
      ],
      "execution_count": 36,
      "outputs": [
        {
          "output_type": "stream",
          "text": [
            "Epoch 0, win/lose count 6.5/17.0, average score (-10.5)\n",
            "Epoch 1, win/lose count 7.0/11.0, average score (-7.25)\n",
            "Epoch 2, win/lose count 6.0/10.0, average score (-6.17)\n",
            "Epoch 3, win/lose count 10.5/20.0, average score (-7.0)\n",
            "Epoch 4, win/lose count 8.0/7.0, average score (-5.4)\n",
            "Epoch 5, win/lose count 10.5/15.0, average score (-5.25)\n",
            "Epoch 6, win/lose count 4.5/11.0, average score (-5.43)\n",
            "Epoch 7, win/lose count 9.0/19.0, average score (-6.0)\n",
            "Epoch 8, win/lose count 13.0/11.0, average score (-5.11)\n",
            "Epoch 9, win/lose count 11.0/14.0, average score (-4.9)\n",
            "Final score: -4.9\n",
            "\n",
            "Cheese in yellow and poison in red\n"
          ],
          "name": "stdout"
        },
        {
          "output_type": "execute_result",
          "data": {
            "text/html": [
              "<video alt=\"test\" controls>\n",
              "                <source src=\"data:video/mp4;base64,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\" type=\"video/mp4\" />\n",
              "             </video>"
            ],
            "text/plain": [
              "<IPython.core.display.HTML object>"
            ]
          },
          "metadata": {
            "tags": []
          },
          "execution_count": 36
        }
      ]
    },
    {
      "cell_type": "markdown",
      "metadata": {
        "colab_type": "text",
        "id": "X5L_gfNVN836"
      },
      "source": [
        "***\n",
        "## DQN"
      ]
    },
    {
      "cell_type": "markdown",
      "metadata": {
        "colab_type": "text",
        "id": "p9jHu2HaN83-"
      },
      "source": [
        "Let us assume here that $T=\\infty$.\n",
        "\n",
        "***\n",
        "__Question 5__ Let $\\pi$ be a policy, show that:\n",
        "\n",
        "\\begin{equation*}\n",
        "Q^{\\pi}(s,a)=E_{(s',a')\\sim p^{\\pi}(.|s,a)}[r(s,a)+\\gamma Q^{\\pi}(s',a')]\n",
        "\\end{equation*}\n",
        "\n",
        "Then, show that for the optimal policy $\\pi^*$ (we assume its existence), the following holds: \n",
        "\n",
        "\\begin{equation*}\n",
        "Q^{*}(s,a)=E_{s'\\sim \\pi^*(.|s,a)}[r(s,a)+\\gamma\\max_{a'}Q^{*}(s',a')].\n",
        "\\end{equation*}\n",
        "Finally, deduce that a plausible objective is:\n",
        "\n",
        "\\begin{equation*}\n",
        "\\mathcal{L}(\\theta)=E_{s' \\sim \\pi^*(.|s,a)}\\Vert r+\\gamma\\max_{a'}Q(s',a',\\theta)-Q(s,a,\\theta)\\Vert^{2}.\n",
        "\\end{equation*}\n",
        "\n",
        "\n"
      ]
    },
    {
      "cell_type": "markdown",
      "metadata": {
        "id": "KKio8gkA85Ga",
        "colab_type": "text"
      },
      "source": [
        "Note that there was a typo in the question, that was have corrected in the cell above. Please find below the proof of the 3 statements:\n",
        "\n",
        "* From the definition, we have:\n",
        "\n",
        "$Q^{\\pi}(s,a) = \\mathbb{E}_{p^{\\pi}}[\\sum_{t\\geq 0} \\gamma^t r(s_t, a_t) | s_0 = s, a_0=a]\\\\\n",
        "=  \\mathbb{E}_{p^{\\pi}}[r(s_0, a_0) + \\gamma\\sum_{t\\geq 1} \\gamma^{t-1}r(s_t, a_t) | s_0=s, a_0=a]\\\\\n",
        "=  r(s,a) + \\gamma  \\mathbb{E}_{p^{\\pi}}[\\gamma\\sum_{t\\geq 1} \\gamma^{t-1}r(s_t, a_t) | s_0=s, a_0=a]\\\\\n",
        "= r(s,a) + \\gamma \\mathbb{E}_{(s',a')\\sim p^{\\pi}(\\cdot|s,a)}[Q^{\\pi}(s', a')]\\\\\n",
        "= \\mathbb{E}_{(s',a')\\sim p^{\\pi}(.|s,a)}[r(s,a)+\\gamma Q^{\\pi}(s',a')] $\n",
        "\n",
        "as required.\n",
        "\n",
        "* Note that any policy $\\pi$ applied from time $t$ on at state $s$ can be written as $\\pi = (a', \\pi')$ with $a'  \\in A$ being the action\n",
        "taken at time $t$ in $s$ and $\\pi' = (\\pi_{t+1}, \\pi_{t+2},\\ldots)$. Then, we have (using the linearity of $\\mathbb{E}$ and that $\\pi^*$ is the optimal policy):\n",
        "\n",
        "$Q^*(s,a) = \\max_{\\pi} Q^{\\pi}(s,a)\\\\\n",
        "=\\max_{\\pi} \\mathbb{E}_{(s',a')\\sim p^{\\pi}(.|s,a)}[r(s,a)+\\gamma Q^{\\pi}(s',a')]\\\\\n",
        "= r(s,a) + \\gamma\\max_{\\pi}\\mathbb{E}_{(s',a')\\sim p^{\\pi}(.|s,a)}[Q^{\\pi}(s',a')]\\\\\n",
        "= r(s,a) + \\gamma\\max_{(a',\\pi')}\\mathbb{E}_{(s',a')\\sim p^{\\pi}(.|s,a)}[Q^{\\pi}(s',a')]\\\\\n",
        "= r(s,a) + \\gamma\\mathbb{E}_{s'\\sim {\\pi^*}(.|s,a)}[\\max_{a'}Q^{*}(s',a')]\\\\\n",
        "= \\mathbb{E}_{s'\\sim \\pi^*(.|s,a)}[r(s,a)+\\gamma\\max_{a'}Q^{*}(s',a')]\n",
        "$\n",
        "\n",
        "as required.\n",
        "\n",
        "* Using the last equality: $\\mathbb{E}_{s'\\sim \\pi^*(.|s,a)}[r(s,a)+\\gamma\\max_{a'}Q^{*}(s',a')]$, we can consider the mean squared error as a plausible loss, and hence objective: $\\mathcal{L}(\\theta)=\\mathbb{E}_{s' \\sim \\pi^*(.|s,a)}\\Vert r+\\gamma\\max_{a'}Q(s',a',\\theta)-Q(s,a,\\theta)\\Vert^{2}$, as required."
      ]
    },
    {
      "cell_type": "markdown",
      "metadata": {
        "colab_type": "text",
        "id": "NDFZ8a-nN84D"
      },
      "source": [
        "***\n",
        "The DQN-learning algorithm relies on these derivations to train the parameters $\\theta$ of a Deep Neural Network:\n",
        "\n",
        "1. At the state $s_t$, select the action $a_t$ with best reward using $Q_t$ and store the results;\n",
        "\n",
        "2. Obtain the new state $s_{t+1}$ from the environment $p$;\n",
        "\n",
        "3. Store $(s_t,a_t,s_{t+1})$;\n",
        "\n",
        "4. Obtain $Q_{t+1}$ by minimizing  $\\mathcal{L}$ from a recovered batch from the previously stored results.\n",
        "\n",
        "***\n",
        "__Question 6__ Implement the class ```Memory``` that stores moves (in a replay buffer) via ```remember``` and provides a ```random_access``` to these. Specify a maximum memory size to avoid side effects. You can for example use a ```list()``` and set by default ```max_memory=100```."
      ]
    },
    {
      "cell_type": "code",
      "metadata": {
        "colab_type": "code",
        "id": "jAK2wF5tN84E",
        "colab": {}
      },
      "source": [
        "class Memory(object):\n",
        "    def __init__(self, max_memory=100):\n",
        "        self.max_memory = max_memory # maximum elements stored\n",
        "        self.memory = list() # initialize the memory\n",
        "\n",
        "    def remember(self, m):\n",
        "        if len(self.memory) <= self.max_memory: # if not full\n",
        "            self.memory.append(m) # store element at the end\n",
        "        else:\n",
        "            self.memory = self.memory[1:] # remove the first element of the memory to create spce\n",
        "            self.memory.append(m) # store element at the end\n",
        "\n",
        "    def random_access(self, batch_size):\n",
        "        return random.sample(self.memory, batch_size) # random sample from memory of size batch_size"
      ],
      "execution_count": 0,
      "outputs": []
    },
    {
      "cell_type": "markdown",
      "metadata": {
        "colab_type": "text",
        "id": "SIkR03LpN84K"
      },
      "source": [
        "***\n",
        "The pipeline we will use for training is given below:"
      ]
    },
    {
      "cell_type": "code",
      "metadata": {
        "colab_type": "code",
        "id": "LfheCQXfN84M",
        "colab": {}
      },
      "source": [
        "def train(agent, env, epoch, prefix=''):\n",
        "    # Number of won games\n",
        "    score = 0\n",
        "    loss = 0\n",
        "\n",
        "    for e in tqdm.tqdm_notebook(range(epoch)):\n",
        "        # At each epoch, we restart to a fresh game and get the initial state\n",
        "        state = env.reset()\n",
        "\n",
        "        # This assumes that the games will terminate\n",
        "        game_over = False\n",
        "\n",
        "        win = 0\n",
        "        lose = 0\n",
        "\n",
        "        while not game_over:\n",
        "            # The agent performs an action\n",
        "            if prefix == 'fc_train':\n",
        "                action = agent.learned_act(state.flatten().reshape(1, -1)) # take action with the agent\n",
        "            else:\n",
        "                action = agent.learned_act(state.reshape(1, 5, 5, 2)) # take action with the agent\n",
        "\n",
        "            # Apply an action to the environment, get the next state, the reward\n",
        "            # and if the game ends\n",
        "            prev_state = state\n",
        "            state, reward, game_over = env.act(action)\n",
        "\n",
        "            # Update the counters\n",
        "            if reward > 0:\n",
        "                win = win + reward\n",
        "            if reward < 0:\n",
        "                lose = lose - reward\n",
        "\n",
        "            # Apply the reinforcement strategy\n",
        "            loss = agent.reinforce(prev_state, state,  action, reward, game_over, prefix)\n",
        "        \n",
        "\n",
        "        # Save as a mp4\n",
        "        if e % 10 == 0:\n",
        "            env.draw(prefix + str(e))\n",
        "\n",
        "        # Update stats\n",
        "        score += win - lose\n",
        "\n",
        "        print(f\"Epoch {e}/{epoch}, loss {round(np.float64(loss), 4)}, win/lose count {win}/{lose} ({win - lose})\")\n",
        "        agent.save(name_weights=prefix+'model.h5',name_model=prefix+'model.json')"
      ],
      "execution_count": 0,
      "outputs": []
    },
    {
      "cell_type": "markdown",
      "metadata": {
        "colab_type": "text",
        "id": "mL8rvPzRN84V"
      },
      "source": [
        "***\n",
        "__Question 7__ Implement the DQN training algorithm using a cascade of fully connected layers. You can use different learning rate, batch size or memory size parameters. In particular, the loss might oscillate while the player will start to win the games. You have to find a good criterium."
      ]
    },
    {
      "cell_type": "code",
      "metadata": {
        "colab_type": "code",
        "id": "Tmj5qFqSN84X",
        "colab": {}
      },
      "source": [
        "class DQN(Agent):\n",
        "    def __init__(self, grid_size,  epsilon=0.1, memory_size=100, batch_size=16, n_state=2):\n",
        "        super(DQN, self).__init__(epsilon=epsilon)\n",
        "        self.epsilon = epsilon \n",
        "\n",
        "        # Discount for Q learning (gamma)\n",
        "        self.discount = 0.99\n",
        "        \n",
        "        self.grid_size = grid_size\n",
        "        \n",
        "        # Number of state\n",
        "        self.n_state = n_state\n",
        "\n",
        "        # Memory\n",
        "        self.memory = Memory(memory_size)\n",
        "        \n",
        "        # Batch size when learning\n",
        "        self.batch_size = batch_size\n",
        "\n",
        "    def learned_act(self, s):\n",
        "        if np.random.rand() > self.epsilon: # epsilon exploration strategy (with proba eps, return random action, else return \"best\" action)\n",
        "            return np.argmax(agent.model.predict(s), axis=1) # our best action\n",
        "        else:\n",
        "            return np.random.choice(4) # random action\n",
        "\n",
        "    def reinforce(self, state, next_state, action, reward, game_over, prefix):\n",
        "        # Two steps: first memorize the states, second learn from the pool\n",
        "        # 1) memorize\n",
        "        self.memory.remember([state, next_state, action, reward, game_over])\n",
        "\n",
        "        # 2) learn from the pool\n",
        "        input_states = np.zeros((self.batch_size, 5, 5, self.n_state))\n",
        "        target_q = np.zeros((self.batch_size, 4))\n",
        "\n",
        "        if len(self.memory.memory) < self.batch_size: # if not enough elements in the memory yet, we don't do anything\n",
        "            return 1e5 # unknow (loss)\n",
        "        \n",
        "        samples =  self.memory.random_access(self.batch_size) # random samples from the memory\n",
        "        for i in range(self.batch_size):\n",
        "            \n",
        "            # get elements from memory[i]\n",
        "            input_states[i], next_s, a, r, end = samples[i] # state, next_state, action, reward, game_over\n",
        "                \n",
        "            # update the target\n",
        "            if end:\n",
        "                target_q[i, a] = r \n",
        "            else:\n",
        "                # compute max_a Q(nex_state, a) using the model\n",
        "                if prefix == 'fc_train':\n",
        "                    Q_next_state = np.max(agent.model.predict(next_s.flatten().reshape(1, -1)))\n",
        "                elif prefix == 'cnn_train_explore':\n",
        "                    Q_next_state = np.max(agent.model.predict(next_s.flatten().reshape(1, 5, 5, 3)))\n",
        "                else:\n",
        "                    Q_next_state = np.max(agent.model.predict(next_s.reshape(1, 5, 5, 2)))\n",
        "                    \n",
        "                # r + gamma * max_a Q(nex_state, a)\n",
        "                target_q[i, a] = r + self.discount * Q_next_state\n",
        "\n",
        "        # HINT: Clip the target to avoid exploiding gradients.. -- clipping is a bit tighter\n",
        "        target_q = np.clip(target_q, -3, 3)\n",
        "\n",
        "        # train the model on the batch\n",
        "        if prefix == 'fc_train':\n",
        "            input_data = np.array([input_states[i].flatten().reshape(-1) for i in range(self.batch_size)])\n",
        "            loss = self.model.train_on_batch(input_data, target_q)\n",
        "        elif prefix == 'cnn_train_explore':\n",
        "            input_data = np.array([input_states[i].flatten().reshape(5, 5, 3) for i in range(self.batch_size)])\n",
        "            loss = self.model.train_on_batch(input_data, target_q)\n",
        "        else:\n",
        "            input_data = np.array([input_states[i].reshape(5, 5, 2) for i in range(self.batch_size)]) \n",
        "            loss = self.model.train_on_batch(input_data, target_q)\n",
        "            \n",
        "        return loss\n",
        "\n",
        "    def save(self,name_weights='model.h5',name_model='model.json'):\n",
        "        self.model.save_weights(name_weights, overwrite=True)\n",
        "        with open(name_model, \"w\") as outfile:\n",
        "            json.dump(self.model.to_json(), outfile)\n",
        "            \n",
        "    def load(self,name_weights='model.h5',name_model='model.json'):\n",
        "        with open(name_model, \"r\") as jfile:\n",
        "            model = model_from_json(json.load(jfile))\n",
        "        model.load_weights(name_weights)\n",
        "        model.compile(\"sgd\", \"mse\")\n",
        "        self.model = model\n",
        "\n",
        "            \n",
        "class DQN_FC(DQN):\n",
        "    def __init__(self, *args, lr=0.1, **kwargs):\n",
        "        super(DQN_FC, self).__init__( *args, **kwargs)\n",
        "        \n",
        "        ### NN Model\n",
        "        model = Sequential() \n",
        "\n",
        "        #Input layer\n",
        "        model.add(Dense(units=200, input_dim=50, activation='relu'))\n",
        "        model.add(Dropout(0.25))\n",
        "\n",
        "        #Hidden layer 1\n",
        "        model.add(Dense(units=200, activation='relu'))\n",
        "        model.add(Dropout(0.5))\n",
        "\n",
        "        #Output layer\n",
        "        model.add(Dense(units=4, activation=None))\n",
        "        \n",
        "        ####### FILL IN\n",
        "        \n",
        "        model.compile(adam(lr=lr), \"mse\")\n",
        "        self.model = model"
      ],
      "execution_count": 0,
      "outputs": []
    },
    {
      "cell_type": "code",
      "metadata": {
        "colab_type": "code",
        "collapsed": true,
        "id": "nEmtWMe8N84f",
        "outputId": "863b720a-32ad-44fc-ab28-4444ca8b3638",
        "colab": {
          "base_uri": "https://localhost:8080/",
          "height": 416,
          "referenced_widgets": [
            "18c14177542448dab366716667b25161",
            "57c3c5858ab14b2eb04080b384563c5b",
            "62b4e0e315a941129461c168925a6a08",
            "740c1fb4063947878ed45e2d22fd286c",
            "713209d1f6d642ca82a71f937c75bdc0",
            "1eb229a8167b4b44a3da44e0d8c229fc",
            "3495a4a6fdb14cf6945a1be764dedc87",
            "309c6de4b9e74a1386fd7f44d8190e75"
          ]
        }
      },
      "source": [
        "epochs_train = 11 # set small when debugging\n",
        "env = Environment(grid_size=size, max_time=T, temperature=0.3)\n",
        "agent = DQN_FC(size, lr=0.001, epsilon=0.1, memory_size=2000, batch_size=32)\n",
        "train(agent, env, epochs_train, prefix='fc_train')\n",
        "HTML(display_videos('fc_train10.mp4'))"
      ],
      "execution_count": 40,
      "outputs": [
        {
          "output_type": "display_data",
          "data": {
            "application/vnd.jupyter.widget-view+json": {
              "model_id": "18c14177542448dab366716667b25161",
              "version_minor": 0,
              "version_major": 2
            },
            "text/plain": [
              "HBox(children=(IntProgress(value=0, max=11), HTML(value='')))"
            ]
          },
          "metadata": {
            "tags": []
          }
        },
        {
          "output_type": "stream",
          "text": [
            "Epoch 0/11, loss 0.0148, win/lose count 7.0/12.0 (-5.0)\n",
            "Epoch 1/11, loss 0.0152, win/lose count 5.5/7.0 (-1.5)\n",
            "Epoch 2/11, loss 0.0084, win/lose count 5.5/2.0 (3.5)\n",
            "Epoch 3/11, loss 0.0031, win/lose count 4.5/2.0 (2.5)\n",
            "Epoch 4/11, loss 0.0026, win/lose count 6.0/5.0 (1.0)\n",
            "Epoch 5/11, loss 0.0038, win/lose count 6.0/3.0 (3.0)\n",
            "Epoch 6/11, loss 0.0123, win/lose count 4.0/0 (4.0)\n",
            "Epoch 7/11, loss 0.0007, win/lose count 11.5/1.0 (10.5)\n",
            "Epoch 8/11, loss 0.0041, win/lose count 2.5/0 (2.5)\n",
            "Epoch 9/11, loss 0.0003, win/lose count 8.0/4.0 (4.0)\n",
            "Epoch 10/11, loss 0.009, win/lose count 6.0/5.0 (1.0)\n",
            "\n"
          ],
          "name": "stdout"
        },
        {
          "output_type": "execute_result",
          "data": {
            "text/html": [
              "<video alt=\"test\" controls>\n",
              "                <source src=\"data:video/mp4;base64,AAAAIGZ0eXBpc29tAAACAGlzb21pc28yYXZjMW1wNDEAAAAIZnJlZQAAGfptZGF0AAACrQYF//+p3EXpvebZSLeWLNgg2SPu73gyNjQgLSBjb3JlIDE1MiByMjg1NCBlOWE1OTAzIC0gSC4yNjQvTVBFRy00IEFWQyBjb2RlYyAtIENvcHlsZWZ0IDIwMDMtMjAxNyAtIGh0dHA6Ly93d3cudmlkZW9sYW4ub3JnL3gyNjQuaHRtbCAtIG9wdGlvbnM6IGNhYmFjPTEgcmVmPTMgZGVibG9jaz0xOjA6MCBhbmFseXNlPTB4MToweDExMSBtZT1oZXggc3VibWU9NyBwc3k9MSBwc3lfcmQ9MS4wMDowLjAwIG1peGVkX3JlZj0xIG1lX3JhbmdlPTE2IGNocm9tYV9tZT0xIHRyZWxsaXM9MSA4eDhkY3Q9MCBjcW09MCBkZWFkem9uZT0yMSwxMSBmYXN0X3Bza2lwPTEgY2hyb21hX3FwX29mZnNldD00IHRocmVhZHM9MyBsb29rYWhlYWRfdGhyZWFkcz0xIHNsaWNlZF90aHJlYWRzPTAgbnI9MCBkZWNpbWF0ZT0xIGludGVybGFjZWQ9MCBibHVyYXlfY29tcGF0PTAgY29uc3RyYWluZWRfaW50cmE9MCBiZnJhbWVzPTMgYl9weXJhbWlkPTIgYl9hZGFwdD0xIGJfYmlhcz0wIGRpcmVjdD0xIHdlaWdodGI9MSBvcGVuX2dvcD0wIHdlaWdodHA9MiBrZXlpbnQ9MjUwIGtleWludF9taW49MjUgc2NlbmVjdXQ9NDAgaW50cmFfcmVmcmVzaD0wIHJjX2xvb2thaGVhZD00MCByYz1jcmYgbWJ0cmVlPTEgY3JmPTIzLjAgcWNvbXA9MC42MCBxcG1pbj0wIHFwbWF4PTY5IHFwc3RlcD00IGlwX3JhdGlvPTEuNDAgYXE9MToxLjAwAIAAAAMhZYiEADv//vb8/AptUwn/LZ/+iL/lb+9P2a61uFE7M7QacwPQC/3cd/Xi1bCrc27LcdG8bJkAU3Roif4iO++BTDSsfgU1tls96l0QixI3xMPEmGoC/fkTbluHFdHvuC1je6Gf91TaNgqEKqM9A2TGVqURTg6rcj10fAPdZ3ZK2/a/DjXzfxP8zoWnlFfqp5/GVBrIwa0DBGB1kEZOslrjHa0D4o9pJPxk7o3aqjlQUdrM/c17u0Romzsm+7CTLOnBRgDdQpCAIVcXcn4LABCwlClFdLKHrCjA+igtMsnp18ej8UmT1+HcXvMMB0aciEQtlauZj4Kfhry/QJDZVG9ZFYxKRzocE7Ciu8pQrGdyrMM+ViY6r0uywD4LgMkd7XpRrusR0BPGYHaud88Hyf78z7i+/na7qQWwDyTXjMqRIt5DJTTNejMwgvCFPlX4uvgxDHPheo53Lmhz+GLvESJndgH9cahLuEpfTtgJBmEh5tznWl+rfAR7PcsAZp1d+yGa8cvgDU1D8Dn+kMily5785tCgpY7Wm9EonMUOGqTJ+Q/csEwbVE8sGhvW9CwACpt0byKSldk6Zo+5Gzk/T0TmFn8p1kGWdiaJEt52v3FWgdHg5o4V1AQAByRJBxFgvJZKKIyQlIbWUGJlrdTQl4xM+I8UzP3CZ4dtKnl2qsoNQYHHLdDZ8d+CTonS+Bt1lq5xOQ4kOA31coeKvekTB/5lsuEuWahF9nOsklz7p0K5PFIv/8CH3KvejiPL76cR4uaszPcGJfLT7bcUmF467YeZK6BnIg14ih9YztlqNPpAhwdqgE2ZBIZ0LWhZnBM3JnUDIB9RikiL/RAphMAb1jJlnLEYTeG8Z2kJYiibgcy/Ee+1uUcOrgGS8EjG2hxpSj1hjh8ItUOiVFwTJ4OdRJBF5GoaJTEiqparFBOPXwoKc53ah1kCHG3iA9/ksWWL+1iyhu4SH7IR9ck+53EQYCYP0vHQ+y6OdcERHtFlHt4IzNnnUbcSC4MBVVIhYva/Wb35z3NuJGJkBLOBERQlcNxrx5PHaswPZmTISwQBdNMAAA2pAAAAG0GaJGxDv/6plgBAfjz/u3fzkd3PmWWwxK46PgAAABNBnkJ4hf8ATWhEM6K5OnaxV0XBAAAAFAGeYXRCvwBpfzViI+5llU/qxIcLAAAAPQGeY2pCvwBknbhNrQ85YCYAM3//EH6y6ryDYE8dvxCtqQbqvnVTq5VilBuwp97PfC0EcXEcsQZZTD4Mkd0AAAApQZpoSahBaJlMCHf//qmWAD1fCj37LnzN45lkhebwKV81uBS6fPoPk4EAAABKQZ6GRREsL/8ASWesuw6/HucAZRxFcBFvwnMX//EIETaq8npJf9ym5ejNY8ibOyHahUjiroj789IZuxteY2ysapy00uUX0rtGeWEAAAAQAZ6ldEK/AGR/6xHTwn3nwQAAABABnqdqQr8AX524TcZ9enB4AAAAIkGarEmoQWyZTAh3//6plgA6nwo+D45W/bNVcyyqf69B83AAAAAQQZ7KRRUsL/8ARWeshysj4QAAABQBnul0Qr8AX381YiPuZZVP3DyThQAAABQBnutqQr8AWe2tUZeLNwKavwV1vQAAAChBmvBJqEFsmUwIb//+p4QAn3yPrnMskMA+BSvn3wKXT5yWwLT+0MghAAAASkGfDkUVLC//AF+VfBvLNakkgGUcRXARb8JzF//xCBE2qvJ6SX/cpuXozWPImzsh2oVI4q6I+/PSGbsbXmNsrGqctNLlF9K7Nbh9AAAAFAGfLXRCvwBa0qQSI+5llU/cPJOZAAAAEAGfL2pCvwB/GfMbockHF6QAAAApQZszSahBbJlMCG///qeEAJ98dPfDPSC2sdzLJsv94FLzn9wKYnU8T4AAAABZQZ9RRRUsK/8AfwGDrACDYBm9UpEcY5PCW7CNifZeSob//4hMAXXVe0lnAoRhn+OKutTiM9Wjxlq3tbLBYHIhvMloR8aXWYXQzVkfrHoLAXR47oyAjtPoLRUAAAAPAZ9yakK/AHxB/VIoEqmpAAAAGkGbdEmoQWyZTAh3//6plgAxntL+d0hTCJ0wAAAAK0GbmEnhClJlMCHf/qmWAB9faX9cr7wdFBmJ9JOZZKckPApbrcuBS96cfzEAAABvQZ+2RTRML/8AJbQEMrQLOADgMo4iuAi34TmL//iECJtVeT0kv+5TcvRmseRNnZDtQqRxV0R9+ekM3Y2vMbZWNU5aaXKL6V093kuQ54GuAteFKWfh7dNYPaMYv6It1vmkVhCDQ56C6tA4rhvU+BBxAAAAEAGf1XRCvwAzgCFwH5P/7eEAAAA5AZ/XakK/ABYo2u3tbAkAmADN//xBNtarpTYTFkL6EJ5dqYyLUjQb8zpNATo1KhiPgWDOnDB0zt3BAAAAJUGb3EmoQWiZTAh3//6plgAIz8efyr/nmpXWjT1H1iTwKavwebgAAAAZQZ/6RREsL/8ACoMrSst5IW4FNaxHiqMoMQAAABABnhl0Qr8ADicUXAflABPgAAAAFAGeG2pCvwAF+HiCRH3Msqn9V52TAAAAK0GaAEmoQWyZTAh3//6plgACY/I6CGflffdeJa7mWVMK7wKZQ7bgUzcZVRUAAAAQQZ4+RRUsL/8AAtbG24fC6AAAADwBnl10Qr8AA80+cAmADN//xB+suq8g2BPHb8QrakG6r51U6uVYpQbsKfez3wtBHFxHLEGWUw99mGiuIhAAAAA8AZ5fakK/AAPNZ3gCYAM3//EH6y6ryDYE8dvxCtqQbqvnVTq5VilBuwp97PfC0EcXEcsQZZTD4MF2Dn6JAAAAE0GaREmoQWyZTAh3//6plgAAlYAAAAAMQZ5iRRUsL/8AALKBAAAAEAGegXRCvwADzWKxhUjkN/AAAAAQAZ6DakK/AAPMah0Jscmw4QAAABNBmohJqEFsmUwId//+qZYAAJWBAAAADEGepkUVLC//AACygQAAABABnsV0Qr8AA81isYVI5DfxAAAAEAGex2pCvwADzGodCbHJsOAAAAATQZrMSahBbJlMCHf//qmWAACVgAAAAAxBnupFFSwv/wAAsoEAAAAQAZ8JdEK/AAPNYrGFSOQ38AAAABABnwtqQr8AA8xqHQmxybDgAAAAI0GbEEmoQWyZTAh3//6plgACc/I6DrU5mq+ZZdVvVf7zrcijAAAAQkGfLkUVLC//AALruIBmhiWb6BMpcO//8QXjsquxBRfgRVibBFYAK7XNe5TwZsdGTMF6fYP+wt9VirjCKQoSTT+tcwAAAA8Bn010Qr8AA81isYQrIcEAAAA5AZ9PakK/AAPlpECYAM3//EE21qulNhMWQvoQnl2pjItSNBvzOk0BOjUqGI+BYM6cMHQk4mN1nY5AAAAAGUGbVEmoQWyZTAh3//6plgACc/Rz8u0ZuqUAAAAQQZ9yRRUsL/8AAujLBPkbwQAAABABn5F0Qr8AA+HDAZJb/b5AAAAADwGfk2pCvwADzGodC0chwAAAABtBm5hJqEFsmUwId//+qZYAAnC/djgo8a28qzEAAAAQQZ+2RRUsL/8AAujKSluJYAAAABABn9V0Qr8AA+MYT8v0oUJhAAAADwGf12pCvwAD4180OtImgQAAABpBm9xJqEFsmUwId//+qZYAAnP0c/LtI86pQAAAABBBn/pFFSwv/wAC6MsE+RvBAAAAEAGeGXRCvwAD4cMBklv9vkAAAAAPAZ4bakK/AAPMah0LRyHBAAAAKkGaAEmoQWyZTAh3//6plgACU/JGt5llTDM8CmUPh4FM3GSP1i++u+sqYQAAABBBnj5FFSwv/wACxMsVAsoXAAAAPAGeXXRCvwADtxmRH0FgJgAzf/8QfrLqvINgTx2/EK2pBuq+dVOrlWKUG7Cn3s98LQRxcRyxBllMPg0ngAAAADoBnl9qQr8AA7dgUIAgEwAZv/+IP1l1XkGwJ47fiFbUg3VfOqnVyrFKDdhT72e+FoI4uI5YgyymHwmbAAAAE0GaREmoQWyZTAh3//6plgAAlYAAAAAMQZ5iRRUsL/8AALKBAAAAEAGegXRCvwADrKG9l1X8YkAAAAAQAZ6DakK/AAOsob2K0fdtgQAAABNBmohJqEFsmUwId//+qZYAAJWBAAAADEGepkUVLC//AACygQAAABABnsV0Qr8AA6yhvZdV/GJBAAAAEAGex2pCvwADrKG9itH3bYAAAAATQZrMSahBbJlMCHf//qmWAACVgAAAAAxBnupFFSwv/wAAsoEAAAAQAZ8JdEK/AAOsob2XVfxiQAAAABABnwtqQr8AA6yhvYrR922AAAAAE0GbEEmoQWyZTAh3//6plgAAlYEAAAAMQZ8uRRUsL/8AALKBAAAAEAGfTXRCvwADrKG9l1X8YkEAAAAQAZ9PakK/AAOsob2K0fdtgAAAABNBm1RJqEFsmUwId//+qZYAAJWAAAAADEGfckUVLC//AACygQAAABABn5F0Qr8AA6yhvZdV/GJAAAAAEAGfk2pCvwADrKG9itH3bYAAAAATQZuYSahBbJlMCHf//qmWAACVgQAAAAxBn7ZFFSwv/wAAsoAAAAAQAZ/VdEK/AAOsob2XVfxiQQAAABABn9dqQr8AA6yhvYrR922BAAAAE0Gb3EmoQWyZTAh3//6plgAAlYAAAAAMQZ/6RRUsL/8AALKBAAAAEAGeGXRCvwADrKG9l1X8YkAAAAAQAZ4bakK/AAOsob2K0fdtgQAAABNBmgBJqEFsmUwId//+qZYAAJWBAAAADEGePkUVLC//AACygAAAABABnl10Qr8AA6yhvZdV/GJAAAAAEAGeX2pCvwADrKG9itH3bYEAAAATQZpESahBbJlMCHf//qmWAACVgAAAAAxBnmJFFSwv/wAAsoEAAAAQAZ6BdEK/AAOsob2XVfxiQAAAABABnoNqQr8AA6yhvYrR922BAAAAE0GaiEmoQWyZTAh3//6plgAAlYEAAAAMQZ6mRRUsL/8AALKBAAAAEAGexXRCvwADrKG9l1X8YkEAAAAQAZ7HakK/AAOsob2K0fdtgAAAABNBmsxJqEFsmUwId//+qZYAAJWAAAAAFEGe6kUVLC//AAK9SF52jjpnKrbtAAAAEAGfCXRCvwADtcWZ5X5KeggAAAAQAZ8LakK/AAO2z5jdDkhAuAAAABNBmxBJqEFsmUwId//+qZYAAJWBAAAADEGfLkUVLC//AACygQAAABABn010Qr8AA6yhvZdV/GJBAAAAEAGfT2pCvwADrKG9itH3bYAAAAATQZtUSahBbJlMCHf//qmWAACVgAAAAAxBn3JFFSwv/wAAsoEAAAAQAZ+RdEK/AAOsob2XVfxiQAAAABABn5NqQr8AA6yhvYrR922AAAAAE0GbmEmoQWyZTAh3//6plgAAlYEAAAAMQZ+2RRUsL/8AALKAAAAAEAGf1XRCvwADrKG9l1X8YkEAAAAQAZ/XakK/AAOsob2K0fdtgQAAABxBm9xJqEFsmUwId//+qZYAAlPx5/M0KgWimIlmAAAAEEGf+kUVLC//AALEyxUIRpEAAAAQAZ4ZdEK/AAPM2BraZQ+iQAAAAA8BnhtqQr8AA8xqHQtHIcEAAAAZQZoASahBbJlMCHf//qmWAAJQv3bT0Y/UGQAAABBBnj5FFSwv/wACxMsVCEaQAAAAEAGeXXRCvwADtxmRHYsxVAgAAAAPAZ5fakK/AAO3YEuV/mbBAAAAE0GaREmoQWyZTAh3//6plgAAlYAAAAAMQZ5iRRUsL/8AALKBAAAAEAGegXRCvwADrKG9l1X8YkAAAAAQAZ6DakK/AAOsob2K0fdtgQAAABxBmohJqEFsmUwId//+qZYAAlPx5/M0KgWimIlnAAAAEEGepkUVLC//AALFQIrSkaUAAAAPAZ7FdEK/AAO2X4uA/QPBAAAAEAGex2pCvwADzK4NceKt0SAAAAATQZrMSahBbJlMCHf//qmWAACVgAAAAAxBnupFFSwv/wAAsoEAAAAQAZ8JdEK/AAPNYrF5/A6fwAAAABABnwtqQr8AA8xqHP8y3mRAAAAAE0GbEEmoQWyZTAh3//6plgAAlYEAAAAMQZ8uRRUsL/8AALKBAAAAEAGfTXRCvwADzWKxefwOn8EAAAAQAZ9PakK/AAPMahz/Mt5kQAAAACRBm1RJqEFsmUwId//+qZYAAnPyOghOPAWreBTdssSf7zrciiAAAAAQQZ9yRRUsL/8AAulAgpQ9yQAAAA8Bn5F0Qr8AA81isYQrIcAAAAAQAZ+TakK/AAPizwh40NbNgAAAABNBm5hJqEFsmUwId//+qZYAAJWBAAAADEGftkUVLC//AACygAAAABABn9V0Qr8AA9iwDfgA+7MhAAAAEAGf12pCvwAD2LAN7PH3ZkEAAAATQZvcSahBbJlMCHf//qmWAACVgAAAAAxBn/pFFSwv/wAAsoEAAAAQAZ4ZdEK/AAPYsA34APuzIAAAABABnhtqQr8AA9iwDezx92ZBAAAAJEGaAEmoQWyZTAh3//6plgACc/S6Bw/2P3DBzGD/gU3bLEpZYQAAABBBnj5FFSwv/wAC6MsVCEUwAAAAEAGeXXRCvwAD4cWZ5X5KeWgAAAAPAZ5fakK/AAP4ah0LRx3BAAAAGkGaREmoQWyZTAh3//6plgACcL9209GP1AmAAAAAEEGeYkUVLC//AALoyxUIRTEAAAAQAZ6BdEK/AAP5YrFsbKliEAAAAA8BnoNqQr8AA+NgS5X+YcEAAAATQZqISahBbJlMCHf//qmWAACVgQAAAAxBnqZFFSwv/wAAsoEAAAAQAZ7FdEK/AAPYsA34APuzIQAAABABnsdqQr8AA9iwDezx92ZAAAAAE0GazEmoQWyZTAh3//6plgAAlYAAAAAMQZ7qRRUsL/8AALKBAAAAEAGfCXRCvwAD2LAN+AD7syAAAAAQAZ8LakK/AAPYsA3s8fdmQAAAABxBmxBJqEFsmUwId//+qZYAAnP0c/Ls9qFkKXVRAAAAEEGfLkUVLC//AALoywT5G8EAAAAQAZ9NdEK/AAPhwwGSW/2+QQAAAA8Bn09qQr8AA8xqHQtHIcAAAAAcQZtUSahBbJlMCHf//qmWAAJQUdQgzQKfRj9QZAAAABBBn3JFFSwv/wACxUCK0pGlAAAADwGfkXRCvwADzWKxhCshwAAAABABn5NqQr8AA7bPmN0OSEC4AAAAE0GbmEmoQWyZTAh3//6plgAAlYEAAAAMQZ+2RRUsL/8AALKAAAAAEAGf1XRCvwADrKG9l1X8YkEAAAAQAZ/XakK/AAOsob2K0fdtgQAAABNBm9xJqEFsmUwId//+qZYAAJWAAAAADEGf+kUVLC//AACygQAAABABnhl0Qr8AA6yhvZdV/GJAAAAAEAGeG2pCvwADrKG9itH3bYEAAAAkQZoASahBbJlMCG///qeEAAdH4DAJmhwFqfgU3bLEl280W8HhAAAAFUGePkUVLC//AARXP2a178iHzEVyNAAAABABnl10Qr8AA7XFmeV+SnoIAAAAEAGeX2pCvwAF+dqOV/biREEAAAAaQZpDSahBbJlMCG///qeEAAdH2D/CcFuhgcAAAAASQZ5hRRUsK/8ACS9Ou7wKapGBAAAADgGegmpCvwAJLK68BtrSAAAAEkGah0moQWyZTAhn//6eEAAEfQAAAAxBnqVFFSwv/wAAsoEAAAAQAZ7EdEK/AAPCob2XVfxfwQAAABABnsZqQr8AA8KhvYrR92mBAAAAU0GayUuoQhBbJEYIKAfyAf2HgFEwr/44QKTlz+tf5knvTtm9ju2huqk4YfxNFsZZ5H9UAYGsu5lxAmL5JsWyObQvv04i1xQlYQOE9i6PlY+kIJyAAAAAJgGe6GpCvwKvY+1BxN2qw0km5aqGByy1u80qIJoslsaH8CwDp3mAAAAMeG1vb3YAAABsbXZoZAAAAAAAAAAAAAAAAAAAA+gAAB+QAAEAAAEAAAAAAAAAAAAAAAABAAAAAAAAAAAAAAAAAAAAAQAAAAAAAAAAAAAAAAAAQAAAAAAAAAAAAAAAAAAAAAAAAAAAAAAAAAAAAAAAAAIAAAuidHJhawAAAFx0a2hkAAAAAwAAAAAAAAAAAAAAAQAAAAAAAB+QAAAAAAAAAAAAAAAAAAAAAAABAAAAAAAAAAAAAAAAAAAAAQAAAAAAAAAAAAAAAAAAQAAAAAEQAAABEAAAAAAAJGVkdHMAAAAcZWxzdAAAAAAAAAABAAAfkAAABAAAAQAAAAALGm1kaWEAAAAgbWRoZAAAAAAAAAAAAAAAAAAAMgAAAZQAVcQAAAAAAC1oZGxyAAAAAAAAAAB2aWRlAAAAAAAAAAAAAAAAVmlkZW9IYW5kbGVyAAAACsVtaW5mAAAAFHZtaGQAAAABAAAAAAAAAAAAAAAkZGluZgAAABxkcmVmAAAAAAAAAAEAAAAMdXJsIAAAAAEAAAqFc3RibAAAAJVzdHNkAAAAAAAAAAEAAACFYXZjMQAAAAAAAAABAAAAAAAAAAAAAAAAAAAAAAEQARAASAAAAEgAAAAAAAAAAQAAAAAAAAAAAAAAAAAAAAAAAAAAAAAAAAAAAAAAAAAAABj//wAAAC9hdmNDAfQADf/hABdn9AANkZsoIhHQgAAAAwCAAAAZB4oUywEABWjr48RIAAAAGHN0dHMAAAAAAAAAAQAAAMoAAAIAAAAAFHN0c3MAAAAAAAAAAQAAAAEAAAZQY3R0cwAAAAAAAADIAAAAAQAABAAAAAABAAAKAAAAAAEAAAQAAAAAAQAAAAAAAAABAAACAAAAAAEAAAoAAAAAAQAABAAAAAABAAAAAAAAAAEAAAIAAAAAAQAACgAAAAABAAAEAAAAAAEAAAAAAAAAAQAAAgAAAAABAAAKAAAAAAEAAAQAAAAAAQAAAAAAAAABAAACAAAAAAEAAAgAAAAAAgAAAgAAAAABAAAEAAAAAAEAAAoAAAAAAQAABAAAAAABAAAAAAAAAAEAAAIAAAAAAQAACgAAAAABAAAEAAAAAAEAAAAAAAAAAQAAAgAAAAABAAAKAAAAAAEAAAQAAAAAAQAAAAAAAAABAAACAAAAAAEAAAoAAAAAAQAABAAAAAABAAAAAAAAAAEAAAIAAAAAAQAACgAAAAABAAAEAAAAAAEAAAAAAAAAAQAAAgAAAAABAAAKAAAAAAEAAAQAAAAAAQAAAAAAAAABAAACAAAAAAEAAAoAAAAAAQAABAAAAAABAAAAAAAAAAEAAAIAAAAAAQAACgAAAAABAAAEAAAAAAEAAAAAAAAAAQAAAgAAAAABAAAKAAAAAAEAAAQAAAAAAQAAAAAAAAABAAACAAAAAAEAAAoAAAAAAQAABAAAAAABAAAAAAAAAAEAAAIAAAAAAQAACgAAAAABAAAEAAAAAAEAAAAAAAAAAQAAAgAAAAABAAAKAAAAAAEAAAQAAAAAAQAAAAAAAAABAAACAAAAAAEAAAoAAAAAAQAABAAAAAABAAAAAAAAAAEAAAIAAAAAAQAACgAAAAABAAAEAAAAAAEAAAAAAAAAAQAAAgAAAAABAAAKAAAAAAEAAAQAAAAAAQAAAAAAAAABAAACAAAAAAEAAAoAAAAAAQAABAAAAAABAAAAAAAAAAEAAAIAAAAAAQAACgAAAAABAAAEAAAAAAEAAAAAAAAAAQAAAgAAAAABAAAKAAAAAAEAAAQAAAAAAQAAAAAAAAABAAACAAAAAAEAAAoAAAAAAQAABAAAAAABAAAAAAAAAAEAAAIAAAAAAQAACgAAAAABAAAEAAAAAAEAAAAAAAAAAQAAAgAAAAABAAAKAAAAAAEAAAQAAAAAAQAAAAAAAAABAAACAAAAAAEAAAoAAAAAAQAABAAAAAABAAAAAAAAAAEAAAIAAAAAAQAACgAAAAABAAAEAAAAAAEAAAAAAAAAAQAAAgAAAAABAAAKAAAAAAEAAAQAAAAAAQAAAAAAAAABAAACAAAAAAEAAAoAAAAAAQAABAAAAAABAAAAAAAAAAEAAAIAAAAAAQAACgAAAAABAAAEAAAAAAEAAAAAAAAAAQAAAgAAAAABAAAKAAAAAAEAAAQAAAAAAQAAAAAAAAABAAACAAAAAAEAAAoAAAAAAQAABAAAAAABAAAAAAAAAAEAAAIAAAAAAQAACgAAAAABAAAEAAAAAAEAAAAAAAAAAQAAAgAAAAABAAAKAAAAAAEAAAQAAAAAAQAAAAAAAAABAAACAAAAAAEAAAoAAAAAAQAABAAAAAABAAAAAAAAAAEAAAIAAAAAAQAACgAAAAABAAAEAAAAAAEAAAAAAAAAAQAAAgAAAAABAAAKAAAAAAEAAAQAAAAAAQAAAAAAAAABAAACAAAAAAEAAAoAAAAAAQAABAAAAAABAAAAAAAAAAEAAAIAAAAAAQAACgAAAAABAAAEAAAAAAEAAAAAAAAAAQAAAgAAAAABAAAKAAAAAAEAAAQAAAAAAQAAAAAAAAABAAACAAAAAAEAAAoAAAAAAQAABAAAAAABAAAAAAAAAAEAAAIAAAAAAQAACgAAAAABAAAEAAAAAAEAAAAAAAAAAQAAAgAAAAABAAAKAAAAAAEAAAQAAAAAAQAAAAAAAAABAAACAAAAAAEAAAoAAAAAAQAABAAAAAABAAAAAAAAAAEAAAIAAAAAAQAACgAAAAABAAAEAAAAAAEAAAAAAAAAAQAAAgAAAAABAAAKAAAAAAEAAAQAAAAAAQAAAAAAAAABAAACAAAAAAEAAAoAAAAAAQAABAAAAAABAAAAAAAAAAEAAAIAAAAAAQAACAAAAAACAAACAAAAAAEAAAoAAAAAAQAABAAAAAABAAAAAAAAAAEAAAIAAAAAAQAABgAAAAABAAACAAAAABxzdHNjAAAAAAAAAAEAAAABAAAAygAAAAEAAAM8c3RzegAAAAAAAAAAAAAAygAABdYAAAAfAAAAFwAAABgAAABBAAAALQAAAE4AAAAUAAAAFAAAACYAAAAUAAAAGAAAABgAAAAsAAAATgAAABgAAAAUAAAALQAAAF0AAAATAAAAHgAAAC8AAABzAAAAFAAAAD0AAAApAAAAHQAAABQAAAAYAAAALwAAABQAAABAAAAAQAAAABcAAAAQAAAAFAAAABQAAAAXAAAAEAAAABQAAAAUAAAAFwAAABAAAAAUAAAAFAAAACcAAABGAAAAEwAAAD0AAAAdAAAAFAAAABQAAAATAAAAHwAAABQAAAAUAAAAEwAAAB4AAAAUAAAAFAAAABMAAAAuAAAAFAAAAEAAAAA+AAAAFwAAABAAAAAUAAAAFAAAABcAAAAQAAAAFAAAABQAAAAXAAAAEAAAABQAAAAUAAAAFwAAABAAAAAUAAAAFAAAABcAAAAQAAAAFAAAABQAAAAXAAAAEAAAABQAAAAUAAAAFwAAABAAAAAUAAAAFAAAABcAAAAQAAAAFAAAABQAAAAXAAAAEAAAABQAAAAUAAAAFwAAABAAAAAUAAAAFAAAABcAAAAYAAAAFAAAABQAAAAXAAAAEAAAABQAAAAUAAAAFwAAABAAAAAUAAAAFAAAABcAAAAQAAAAFAAAABQAAAAgAAAAFAAAABQAAAATAAAAHQAAABQAAAAUAAAAEwAAABcAAAAQAAAAFAAAABQAAAAgAAAAFAAAABMAAAAUAAAAFwAAABAAAAAUAAAAFAAAABcAAAAQAAAAFAAAABQAAAAoAAAAFAAAABMAAAAUAAAAFwAAABAAAAAUAAAAFAAAABcAAAAQAAAAFAAAABQAAAAoAAAAFAAAABQAAAATAAAAHgAAABQAAAAUAAAAEwAAABcAAAAQAAAAFAAAABQAAAAXAAAAEAAAABQAAAAUAAAAIAAAABQAAAAUAAAAEwAAACAAAAAUAAAAEwAAABQAAAAXAAAAEAAAABQAAAAUAAAAFwAAABAAAAAUAAAAFAAAACgAAAAZAAAAFAAAABQAAAAeAAAAFgAAABIAAAAWAAAAEAAAABQAAAAUAAAAVwAAACoAAAAUc3RjbwAAAAAAAAABAAAAMAAAAGJ1ZHRhAAAAWm1ldGEAAAAAAAAAIWhkbHIAAAAAAAAAAG1kaXJhcHBsAAAAAAAAAAAAAAAALWlsc3QAAAAlqXRvbwAAAB1kYXRhAAAAAQAAAABMYXZmNTcuODMuMTAw\" type=\"video/mp4\" />\n",
              "             </video>"
            ],
            "text/plain": [
              "<IPython.core.display.HTML object>"
            ]
          },
          "metadata": {
            "tags": []
          },
          "execution_count": 40
        }
      ]
    },
    {
      "cell_type": "markdown",
      "metadata": {
        "colab_type": "text",
        "id": "-M9Y_YtYN84l"
      },
      "source": [
        "***\n",
        "***\n",
        "__Question 8__ Implement the DQN training algorithm using a CNN (for example, 2 convolutional layers and one final fully connected layer)."
      ]
    },
    {
      "cell_type": "code",
      "metadata": {
        "colab_type": "code",
        "id": "bZ03CPRpN84n",
        "colab": {}
      },
      "source": [
        "class DQN_CNN(DQN):\n",
        "    def __init__(self, *args, lr=0.1, n_state=2, **kwargs):\n",
        "        super(DQN_CNN, self).__init__(*args, **kwargs)\n",
        "        \n",
        "        self.n_state = n_state\n",
        "        ###### FILL IN\n",
        "        #create model\n",
        "        model = Sequential()\n",
        "        model.add(Conv2D(16, kernel_size=2, activation='relu', input_shape=(5, 5, n_state)))\n",
        "        model.add(Dropout(0.5))\n",
        "        model.add(Conv2D(32, kernel_size=2, activation='relu'))\n",
        "        model.add(Dropout(0.5))\n",
        "        model.add(Flatten())\n",
        "        model.add(Dense(256, activation='relu'))\n",
        "        model.add(Dropout(0.5))\n",
        "        model.add(Dense(4, activation=None))\n",
        "        \n",
        "        model.compile(adam(lr=lr), \"mse\")\n",
        "        self.model = model"
      ],
      "execution_count": 0,
      "outputs": []
    },
    {
      "cell_type": "code",
      "metadata": {
        "colab_type": "code",
        "collapsed": true,
        "id": "WaoXcuzWN84v",
        "outputId": "b84cab7d-50f5-42ff-cfde-8cc26447f59a",
        "colab": {
          "base_uri": "https://localhost:8080/",
          "height": 416,
          "referenced_widgets": [
            "1356a5fe17e949cbb73084ed135ce609",
            "3f485ecb1e0c479788a504ad460eb8a1",
            "059dee0205e3440e80e0d7275e1172b3",
            "79e23fe89e4546a3b6e4397c40d05496",
            "366b18b3d0454c9faa91abd61e7864bb",
            "d05c5040156b425ab4735ad64210753b",
            "774d89f04b794cf98f1fe272cfbd19ed",
            "196dd903d0484095baf6887824314f83"
          ]
        }
      },
      "source": [
        "env = Environment(grid_size=size, max_time=T, temperature=0.3)\n",
        "agent = DQN_CNN(size, lr=0.1, epsilon=0.1, memory_size=2000, batch_size=32)\n",
        "train(agent, env, epochs_train, prefix='cnn_train')\n",
        "HTML(display_videos('cnn_train10.mp4'))"
      ],
      "execution_count": 42,
      "outputs": [
        {
          "output_type": "display_data",
          "data": {
            "application/vnd.jupyter.widget-view+json": {
              "model_id": "1356a5fe17e949cbb73084ed135ce609",
              "version_minor": 0,
              "version_major": 2
            },
            "text/plain": [
              "HBox(children=(IntProgress(value=0, max=11), HTML(value='')))"
            ]
          },
          "metadata": {
            "tags": []
          }
        },
        {
          "output_type": "stream",
          "text": [
            "Epoch 0/11, loss 0.0325, win/lose count 2.5/3.0 (-0.5)\n",
            "Epoch 1/11, loss 0.0111, win/lose count 3.5/3.0 (0.5)\n",
            "Epoch 2/11, loss 0.0078, win/lose count 2.0/3.0 (-1.0)\n",
            "Epoch 3/11, loss 0.0056, win/lose count 2.5/5.0 (-2.5)\n",
            "Epoch 4/11, loss 0.007, win/lose count 2.0/4.0 (-2.0)\n",
            "Epoch 5/11, loss 0.0061, win/lose count 1.5/1.0 (0.5)\n",
            "Epoch 6/11, loss 0.0169, win/lose count 2.5/3.0 (-0.5)\n",
            "Epoch 7/11, loss 0.0017, win/lose count 1.5/6.0 (-4.5)\n",
            "Epoch 8/11, loss 0.0082, win/lose count 5.5/4.0 (1.5)\n",
            "Epoch 9/11, loss 0.0031, win/lose count 1.5/1.0 (0.5)\n",
            "Epoch 10/11, loss 0.0003, win/lose count 2.0/4.0 (-2.0)\n",
            "\n"
          ],
          "name": "stdout"
        },
        {
          "output_type": "execute_result",
          "data": {
            "text/html": [
              "<video alt=\"test\" controls>\n",
              "                <source src=\"data:video/mp4;base64,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\" type=\"video/mp4\" />\n",
              "             </video>"
            ],
            "text/plain": [
              "<IPython.core.display.HTML object>"
            ]
          },
          "metadata": {
            "tags": []
          },
          "execution_count": 42
        }
      ]
    },
    {
      "cell_type": "code",
      "metadata": {
        "id": "WzPmVyGf9u78",
        "colab_type": "code",
        "outputId": "fd34355b-1522-4aa1-bed1-46737690fd46",
        "colab": {
          "base_uri": "https://localhost:8080/",
          "height": 171
        }
      },
      "source": [
        "HTML(display_videos('cnn_train10.mp4'))"
      ],
      "execution_count": 43,
      "outputs": [
        {
          "output_type": "execute_result",
          "data": {
            "text/html": [
              "<video alt=\"test\" controls>\n",
              "                <source src=\"data:video/mp4;base64,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\" type=\"video/mp4\" />\n",
              "             </video>"
            ],
            "text/plain": [
              "<IPython.core.display.HTML object>"
            ]
          },
          "metadata": {
            "tags": []
          },
          "execution_count": 43
        }
      ]
    },
    {
      "cell_type": "markdown",
      "metadata": {
        "colab_type": "text",
        "id": "4SKJqwY4N843"
      },
      "source": [
        "***\n",
        "***\n",
        "__Question 9__ Test both algorithms and compare their performances. Which issue(s) do you observe? Observe also different behaviors by changing the temperature."
      ]
    },
    {
      "cell_type": "code",
      "metadata": {
        "colab_type": "code",
        "id": "_IEVjDaCN844",
        "outputId": "0ac7446d-9857-4ed9-d710-7338b64bd497",
        "colab": {
          "base_uri": "https://localhost:8080/",
          "height": 479
        }
      },
      "source": [
        "### initialize env \n",
        "env = Environment(grid_size=size, max_time=T, temperature=0.3)\n",
        "\n",
        "### parameters\n",
        "epochs_test = 11\n",
        "\n",
        "### test CNN\n",
        "print('Test of the CNN')\n",
        "agent_cnn = DQN_CNN(size, lr=0.1, epsilon=0.1, memory_size=2000, batch_size=32)\n",
        "agent_cnn.load(name_weights='cnn_trainmodel.h5', name_model='cnn_trainmodel.json')\n",
        "test(agent_cnn, env, epochs_test, prefix='cnn_test')\n",
        "\n",
        "### test FC\n",
        "print('Test of the FC')\n",
        "agent_fc = DQN_FC(size, lr=0.1, epsilon=0.1, memory_size=2000, batch_size=32)\n",
        "agent_fc.load(name_weights='fc_trainmodel.h5', name_model='fc_trainmodel.json')\n",
        "test(agent_fc,env, epochs_test, prefix='fc_test')"
      ],
      "execution_count": 44,
      "outputs": [
        {
          "output_type": "stream",
          "text": [
            "Test of the CNN\n",
            "Epoch 0, win/lose count 1.5/2.0, average score (-0.5)\n",
            "Epoch 1, win/lose count 2.0/4.0, average score (-1.25)\n",
            "Epoch 2, win/lose count 3.5/4.0, average score (-1.0)\n",
            "Epoch 3, win/lose count 1.0/0.0, average score (-0.5)\n",
            "Epoch 4, win/lose count 4.0/7.0, average score (-1.0)\n",
            "Epoch 5, win/lose count 2.5/4.0, average score (-1.08)\n",
            "Epoch 6, win/lose count 3.0/1.0, average score (-0.64)\n",
            "Epoch 7, win/lose count 0.5/2.0, average score (-0.75)\n",
            "Epoch 8, win/lose count 3.5/6.0, average score (-0.94)\n",
            "Epoch 9, win/lose count 1.5/3.0, average score (-1.0)\n",
            "Epoch 10, win/lose count 4.5/1.0, average score (-0.59)\n",
            "Final score: -0.5909090909090909\n",
            "Test of the FC\n",
            "Epoch 0, win/lose count 1.5/2.0, average score (-0.5)\n",
            "Epoch 1, win/lose count 2.0/1.0, average score (0.25)\n",
            "Epoch 2, win/lose count 4.0/0.0, average score (1.5)\n",
            "Epoch 3, win/lose count 4.5/1.0, average score (2.0)\n",
            "Epoch 4, win/lose count 2.5/1.0, average score (1.9)\n",
            "Epoch 5, win/lose count 3.5/1.0, average score (2.0)\n",
            "Epoch 6, win/lose count 1.0/7.0, average score (0.86)\n",
            "Epoch 7, win/lose count 4.0/7.0, average score (0.38)\n",
            "Epoch 8, win/lose count 4.0/3.0, average score (0.44)\n",
            "Epoch 9, win/lose count 3.0/4.0, average score (0.3)\n",
            "Epoch 10, win/lose count 1.0/2.0, average score (0.18)\n",
            "Final score: 0.18181818181818182\n"
          ],
          "name": "stdout"
        }
      ]
    },
    {
      "cell_type": "code",
      "metadata": {
        "colab_type": "code",
        "id": "a8DQ5E13N84-",
        "outputId": "9b8895f0-5898-4b20-e668-5a8f24614b29",
        "colab": {
          "base_uri": "https://localhost:8080/",
          "height": 171
        }
      },
      "source": [
        "HTML(display_videos('cnn_test10.mp4'))"
      ],
      "execution_count": 45,
      "outputs": [
        {
          "output_type": "execute_result",
          "data": {
            "text/html": [
              "<video alt=\"test\" controls>\n",
              "                <source src=\"data:video/mp4;base64,AAAAIGZ0eXBpc29tAAACAGlzb21pc28yYXZjMW1wNDEAAAAIZnJlZQAAFp9tZGF0AAACrQYF//+p3EXpvebZSLeWLNgg2SPu73gyNjQgLSBjb3JlIDE1MiByMjg1NCBlOWE1OTAzIC0gSC4yNjQvTVBFRy00IEFWQyBjb2RlYyAtIENvcHlsZWZ0IDIwMDMtMjAxNyAtIGh0dHA6Ly93d3cudmlkZW9sYW4ub3JnL3gyNjQuaHRtbCAtIG9wdGlvbnM6IGNhYmFjPTEgcmVmPTMgZGVibG9jaz0xOjA6MCBhbmFseXNlPTB4MToweDExMSBtZT1oZXggc3VibWU9NyBwc3k9MSBwc3lfcmQ9MS4wMDowLjAwIG1peGVkX3JlZj0xIG1lX3JhbmdlPTE2IGNocm9tYV9tZT0xIHRyZWxsaXM9MSA4eDhkY3Q9MCBjcW09MCBkZWFkem9uZT0yMSwxMSBmYXN0X3Bza2lwPTEgY2hyb21hX3FwX29mZnNldD00IHRocmVhZHM9MyBsb29rYWhlYWRfdGhyZWFkcz0xIHNsaWNlZF90aHJlYWRzPTAgbnI9MCBkZWNpbWF0ZT0xIGludGVybGFjZWQ9MCBibHVyYXlfY29tcGF0PTAgY29uc3RyYWluZWRfaW50cmE9MCBiZnJhbWVzPTMgYl9weXJhbWlkPTIgYl9hZGFwdD0xIGJfYmlhcz0wIGRpcmVjdD0xIHdlaWdodGI9MSBvcGVuX2dvcD0wIHdlaWdodHA9MiBrZXlpbnQ9MjUwIGtleWludF9taW49MjUgc2NlbmVjdXQ9NDAgaW50cmFfcmVmcmVzaD0wIHJjX2xvb2thaGVhZD00MCByYz1jcmYgbWJ0cmVlPTEgY3JmPTIzLjAgcWNvbXA9MC42MCBxcG1pbj0wIHFwbWF4PTY5IHFwc3RlcD00IGlwX3JhdGlvPTEuNDAgYXE9MToxLjAwAIAAAALYZYiEADv//vb8/AptUwn/LZ/+iL/lb+9P2a61uFE7M7QacwPQC/3cd/Xi1bCrc27LcdG8bJkAU3Roif7wCeTg+GaltnZvwKZkaHfApsqwgYi3X16YkcTEhR75+J5+kuRXTqXodbLrQlZRQUOUK9t1chnJ1NlsSZo9UxzfafLRgMcRDSGvJLrN7nIXiwytA/IYOb6/gk/8mcXd0+6RQw8Qz1+HLB3/FQgwF1EoRLp1vOVTJR4WWekC+AH3f83kcz8vOLt4rbBnfFOrnic5HpVCXexayCfMJHIWJEfAJAVwWcnV4qEzZyRsO+py/m63MY454Wg1UPBleIW+W/onk97761HjV4eAAQd8kWKbeNJoR5wqWC//d2dbYmCbQSrWNOapPMviEkEq5f/uMjV7UXvWsn8tfiE8ZgANYRiOQ/L0Y5pszmlQqJobckRBmmiWL75ai3RlPCgqjhWYVSadiCpUyP3+io+gTNb3lPmd9O6FwCYZtCR2cl5Yfjw6csV26aPBT3p8pYPHACYfkIZdGNnhySW6G1BCsN0YfabvIPsEH/OKEZBRASMnMjFTRxBgBfeW7w7dSGykqvlWP6SapoM4pALaUWdiZRK2S5pomsp0izaeKMpFuBdIwbiTMgXK4kATLdxrOcHQ8oSXHQfALo1EPxuvql/bzJf72EUMuvMQI9VRPDVnk++P48gEZh4HbrcCLmj3WVYHRdYh0IXeflBlaMDmUakvFA2EE0LKTQ50DMGAORIF/JPeyHapgAlh2jl14coPFGlVh3mfiLF/W5ED6WO57ol1GNcWsdC0EMW5q4r9BYDCUjC2LGu18oEfd9Q2MkzZplR64BJzApjPnCJ3syo5SAgtNNdJN3ITE3uwxb48uWJHJMF1PWOsY5ha1abnoOPI1yo6SaGG4Jfzx5PYsQZ9pxyVJamNRX6zd8eYIRgmDFF9I6pbh7uiImeesBe2ERUgG7TQASkAAAAmQZokbEN//qeEAmndT7vNqBKr7ItdcyyQui4FK+TXMsb5XS6mqKAAAABZQZ5CeIX/AR6es07gBDMAzeqsjOOdXpLdx25jsvNcV//8QmJRmqvasyJgRtbroQkRW0SAbb3udxnxg+PgIoi7P6NRT1OVuqcrrU5LeEe/xHhLZxnGD5Bp2ykAAAA4AZ5hdEK/AYj/gsalOwEwAZv/+IJtrVdKbCYshfQhPLtTGRakaDfmdJoCdGpUMR8CwZ04YOlR2hYAAAAPAZ5jakK/AXVrKZtmRrHdAAAAKUGaZ0moQWiZTAhv//6nhAHx6J/7taV7nOuZZIXm8ClfNbgUunv2yFbBAAAAQEGehUURLCv/AWNrubK4gEwAZv/+IP1l1XkGwJ47fiFbUg3VfOqnVyrFKDdhT72e+FoI4uI5YgyymHv8MXz2ZqUAAAAPAZ6makK/AVprKZtmRrH/AAAAJkGaqEmoQWyZTAh3//6plgDcd9XwCPrzLJTlb4FLdc3wKXvTPYl3AAAAKUGazEnhClJlMCHf/qmWANP31f3te8nwKasHb4FMoeHwKZuLp5+QeR3QAAAAEUGe6kU0TC//AOd/6tnLTbuhAAAAEAGfCXRCvwE/TWjJDybs5oAAAAAPAZ8LakK/AStUjdZ6s9IOAAAAE0GbEEmoQWiZTAh3//6plgAAlYEAAAAMQZ8uRREsL/8AALKBAAAADwGfTXRCvwE23HdHbfCpLwAAAA8Bn09qQr8BK1SN1nqz0g4AAAATQZtUSahBbJlMCHf//qmWAACVgAAAAAxBn3JFFSwv/wAAsoEAAAAPAZ+RdEK/AStUjiOy7Kk3AAAADwGfk2pCvwErVI3WerPSDgAAABNBm5hJqEFsmUwId//+qZYAAJWBAAAADEGftkUVLC//AACygAAAAA8Bn9V0Qr8BK1SOI7LsqTcAAAAPAZ/XakK/ATZ5ogtR5dH/AAAAE0Gb3EmoQWyZTAh3//6plgAAlYAAAAAMQZ/6RRUsL/8AALKBAAAADwGeGXRCvwErVI4jsuypNwAAAA8BnhtqQr8BK1SN1nqz0g8AAAATQZoASahBbJlMCHf//qmWAACVgQAAAAxBnj5FFSwv/wAAsoAAAAAPAZ5ddEK/AStUjiOy7Kk3AAAADwGeX2pCvwErVI3WerPSDwAAABNBmkRJqEFsmUwId//+qZYAAJWAAAAADEGeYkUVLC//AACygQAAAA8BnoF0Qr8BK1SOI7LsqTcAAAAPAZ6DakK/AStUjdZ6s9IPAAAAE0GaiEmoQWyZTAh3//6plgAAlYEAAAAMQZ6mRRUsL/8AALKBAAAADwGexXRCvwErVI4jsuypNwAAAA8BnsdqQr8BK1SN1nqz0g4AAAATQZrMSahBbJlMCHf//qmWAACVgAAAAAxBnupFFSwv/wAAsoEAAAAPAZ8JdEK/AStUjiOy7Kk3AAAADwGfC2pCvwErVI3WerPSDgAAABNBmxBJqEFsmUwId//+qZYAAJWBAAAADEGfLkUVLC//AACygQAAAA8Bn010Qr8BK1SOI7LsqTcAAAAPAZ9PakK/AStUjdZ6s9IOAAAAE0GbVEmoQWyZTAh3//6plgAAlYAAAAAMQZ9yRRUsL/8AALKBAAAADwGfkXRCvwErVI4jsuypNwAAAA8Bn5NqQr8BK1SN1nqz0g4AAAATQZuYSahBbJlMCHf//qmWAACVgQAAAAxBn7ZFFSwv/wAAsoAAAAAPAZ/VdEK/AStUjiOy7Kk3AAAADwGf12pCvwErVI3WerPSDwAAABNBm9xJqEFsmUwId//+qZYAAJWAAAAADEGf+kUVLC//AACygQAAAA8Bnhl0Qr8BK1SOI7LsqTcAAAAPAZ4bakK/AStUjdZ6s9IPAAAAE0GaAEmoQWyZTAh3//6plgAAlYEAAAAMQZ4+RRUsL/8AALKAAAAADwGeXXRCvwErVI4jsuypNwAAAA8Bnl9qQr8BK1SN1nqz0g8AAAATQZpESahBbJlMCHf//qmWAACVgAAAAAxBnmJFFSwv/wAAsoEAAAAPAZ6BdEK/AStUjiOy7Kk3AAAADwGeg2pCvwErVI3WerPSDwAAABxBmohJqEFsmUwId//+qZYBy9ULISbXDox+dMrZAAAAEEGepkUVLC//AVFlioQT4OEAAAAQAZ7FdEK/AdJpWLY2VKPdMQAAAA4BnsdqQr8B0YXvVJTZFwAAABNBmsxJqEFsmUwId//+qZYAAJWAAAAADEGe6kUVLC//AACygQAAABABnwl0Qr8B0iQNb6WNoo5oAAAAEAGfC2pCvwHRhe9LoOnlkXAAAAAcQZsQSahBbJlMCHf//qmWAdXhR9dQVAtFMPTHzQAAABBBny5FFSwv/wFRZYqEE+DhAAAAEAGfTXRCvwHF4szyvyU2TjkAAAAPAZ9PakK/AS8NA8mCLNmAAAAAE0GbVEmoQWyZTAh3//6plgAAlYAAAAAMQZ9yRRUsL/8AALKBAAAADwGfkXRCvwErVI4jsuypNwAAAA8Bn5NqQr8BK1SN1nqz0g4AAAATQZuYSahBbJlMCHf//qmWAACVgQAAAAxBn7ZFFSwv/wAAsoAAAAAPAZ/VdEK/AStUjiOy7Kk3AAAADwGf12pCvwErVI3WerPSDwAAABNBm9xJqEFsmUwId//+qZYAAJWAAAAADEGf+kUVLC//AACygQAAAA8Bnhl0Qr8BK1SOI7LsqTcAAAAPAZ4bakK/AStUjdZ6s9IPAAAAE0GaAEmoQWyZTAh3//6plgAAlYEAAAAMQZ4+RRUsL/8AALKAAAAADwGeXXRCvwErVI4jsuypNwAAAA8Bnl9qQr8BK1SN1nqz0g8AAAATQZpESahBbJlMCHf//qmWAACVgAAAAAxBnmJFFSwv/wAAsoEAAAAPAZ6BdEK/AStUjiOy7Kk3AAAADwGeg2pCvwErVI3WerPSDwAAABNBmohJqEFsmUwId//+qZYAAJWBAAAADEGepkUVLC//AACygQAAAA8BnsV0Qr8BK1SOI7LsqTcAAAAPAZ7HakK/AStUjdZ6s9IOAAAAGkGay0moQWyZTAh3//6plgDEePP3osOkDatgAAAAEUGe6UUVLCv/ATbNG803vUFxAAAADgGfCmpCvwE2lGPRFbQcAAAAE0GbD0moQWyZTAh3//6plgAAlYAAAAAMQZ8tRRUsL/8AALKBAAAAEAGfTHRCvwDBZycR2XZU7oEAAAAPAZ9OakK/AMFnJus9WemfAAAAE0GbU0moQWyZTAh3//6plgAAlYAAAAAMQZ9xRRUsL/8AALKAAAAAEAGfkHRCvwDBZycR2XZU7oEAAAAPAZ+SakK/AMiCxolc8umVAAAAE0Gbl0moQWyZTAh3//6plgAAlYAAAAAMQZ+1RRUsL/8AALKBAAAAEAGf1HRCvwDBZycR2XZU7oAAAAAPAZ/WakK/AMFnJus9WemfAAAAE0Gb20moQWyZTAh3//6plgAAlYEAAAAMQZ/5RRUsL/8AALKAAAAAEAGeGHRCvwDBZycR2XZU7oEAAAAPAZ4aakK/AMFnJus9WemfAAAAE0GaH0moQWyZTAh3//6plgAAlYEAAAAMQZ49RRUsL/8AALKBAAAAEAGeXHRCvwDBZycR2XZU7oAAAAAPAZ5eakK/AMFnJus9WemfAAAAE0GaQ0moQWyZTAh3//6plgAAlYEAAAAMQZ5hRRUsL/8AALKAAAAAEAGegHRCvwDBZycR2XZU7oEAAAAPAZ6CakK/AMFnJus9WemfAAAAE0Gah0moQWyZTAh3//6plgAAlYEAAAAMQZ6lRRUsL/8AALKBAAAAEAGexHRCvwDIvJujtvhU6YEAAAAPAZ7GakK/AMFnJus9WemfAAAAE0Gay0moQWyZTAh3//6plgAAlYAAAAAMQZ7pRRUsL/8AALKAAAAAEAGfCHRCvwDBZycR2XZU7oEAAAAPAZ8KakK/AMFnJus9WemfAAAAE0GbD0moQWyZTAh3//6plgAAlYAAAAAMQZ8tRRUsL/8AALKBAAAAEAGfTHRCvwDBZycR2XZU7oEAAAAPAZ9OakK/AMFnJus9WemfAAAAE0GbU0moQWyZTAh3//6plgAAlYAAAAAMQZ9xRRUsL/8AALKAAAAAEAGfkHRCvwDBZycR2XZU7oEAAAAPAZ+SakK/AMFnJus9WemfAAAAE0Gbl0moQWyZTAh3//6plgAAlYAAAAAMQZ+1RRUsL/8AALKBAAAAEAGf1HRCvwDBZycR2XZU7oAAAAAPAZ/WakK/AMFnJus9WemfAAAAE0Gb20moQWyZTAh3//6plgAAlYEAAAAMQZ/5RRUsL/8AALKAAAAAEAGeGHRCvwDBZycR2XZU7oEAAAAPAZ4aakK/AMFnJus9WemfAAAAE0GaH0moQWyZTAh3//6plgAAlYEAAAAMQZ49RRUsL/8AALKBAAAAEAGeXHRCvwDBZycR2XZU7oAAAAAPAZ5eakK/AMFnJus9WemfAAAAHEGaQ0moQWyZTAh3//6plgC7+qFkJNx70Y/Sc1MAAAAQQZ5hRRUsL/8A14jjO5Pz4AAAABABnoB0Qr8BLxAHO2ONM+2hAAAADwGegmpCvwEueaJqSmzZgAAAABNBmodJqEFsmUwId//+qZYAAJWBAAAADEGepUUVLC//AACygQAAAA8BnsR0Qr8BLtx3R23wqTcAAAAPAZ7GakK/AS55ogtR5dIPAAAAE0Gay0moQWyZTAh3//6plgAAlYAAAAAMQZ7pRRUsL/8AALKAAAAADwGfCHRCvwEu3HdHbfCpNwAAAA8BnwpqQr8BLnmiC1Hl0g4AAAAcQZsPSahBbJlMCHf//qmWAL16Mfo/uzFpuMUDUgAAABBBny1FFSwv/wDXiOM7k/PhAAAAEAGfTHRCvwEu3HeVsoejlYEAAAAPAZ9OakK/AMPYgeTBFqmBAAAAGkGbU0moQWyZTAh3//6plgC8J9Rz8efzQNSAAAAAEEGfcUUVLC//ANeI4zuT8+AAAAAQAZ+QdEK/AS8QBztjjTPtoQAAAA8Bn5JqQr8BLnmiakps2YAAAAAoQZuWSahBbJlMCHf//qmWAL16MfoLvXvJ8CmrB2+BTKHh8Cmbi9ZdwAAAABJBn7RFFSwr/wEuzRvNOciiSHcAAAAQAZ/VakK/AS6VyKvAE/lqgAAAABNBm9pJqEFsmUwId//+qZYAAJWBAAAADEGf+EUVLC//AACygQAAABABnhd0Qr8AexQ3dOy7KruAAAAADwGeGWpCvwB7FDdhnqz1QQAAABNBmh5JqEFsmUwId//+qZYAAJWAAAAADEGePEUVLC//AACygQAAABABnlt0Qr8AexQ3dOy7KruBAAAADwGeXWpCvwB7FDdhnqz1QQAAABJBmkJJqEFsmUwIb//+p4QAAScAAAAMQZ5gRRUsL/8AALKBAAAAEAGen3RCvwB7FDd07Lsqu4AAAAAPAZ6BakK/AHsUN2GerPVBAAAAEkGahkmoQWyZTAhn//6eEAAEfAAAAAxBnqRFFSwv/wAAsoEAAAAQAZ7DdEK/AHsUN3Tsuyq7gQAAAA8BnsVqQr8AexQ3YZ6s9UEAAABPQZrJS6hCEFskRggoB/IB/YeAIV/+OEBx7+fLCcJHlcrim2BFmjyFJUfqgGpMcaZ/KJgABBumAjMa6qh1WPF/d9DGDvz/ki++R9gjiybmBQAAAChBnudFFSwr/wKvY+1BxN2qw0km5aqGBy59/CPQ4YM2aXfzu6jqtPgjAAAAIgGfCGpCvwKvY+1BxN2qw0km5aqGBy5+lk2UmfKjpHIygv4AAAxobW9vdgAAAGxtdmhkAAAAAAAAAAAAAAAAAAAD6AAAH5AAAQAAAQAAAAAAAAAAAAAAAAEAAAAAAAAAAAAAAAAAAAABAAAAAAAAAAAAAAAAAABAAAAAAAAAAAAAAAAAAAAAAAAAAAAAAAAAAAAAAAAAAgAAC5J0cmFrAAAAXHRraGQAAAADAAAAAAAAAAAAAAABAAAAAAAAH5AAAAAAAAAAAAAAAAAAAAAAAAEAAAAAAAAAAAAAAAAAAAABAAAAAAAAAAAAAAAAAABAAAAAARAAAAEQAAAAAAAkZWR0cwAAABxlbHN0AAAAAAAAAAEAAB+QAAAEAAABAAAAAAsKbWRpYQAAACBtZGhkAAAAAAAAAAAAAAAAAAAyAAABlABVxAAAAAAALWhkbHIAAAAAAAAAAHZpZGUAAAAAAAAAAAAAAABWaWRlb0hhbmRsZXIAAAAKtW1pbmYAAAAUdm1oZAAAAAEAAAAAAAAAAAAAACRkaW5mAAAAHGRyZWYAAAAAAAAAAQAAAAx1cmwgAAAAAQAACnVzdGJsAAAAlXN0c2QAAAAAAAAAAQAAAIVhdmMxAAAAAAAAAAEAAAAAAAAAAAAAAAAAAAAAARABEABIAAAASAAAAAAAAAABAAAAAAAAAAAAAAAAAAAAAAAAAAAAAAAAAAAAAAAAAAAAGP//AAAAL2F2Y0MB9AAN/+EAF2f0AA2RmygiEdCAAAADAIAAABkHihTLAQAFaOvjxEgAAAAYc3R0cwAAAAAAAAABAAAAygAAAgAAAAAUc3RzcwAAAAAAAAABAAAAAQAABkBjdHRzAAAAAAAAAMYAAAABAAAEAAAAAAEAAAoAAAAAAQAABAAAAAABAAAAAAAAAAEAAAIAAAAAAQAACAAAAAACAAACAAAAAAEAAAQAAAAAAQAACgAAAAABAAAEAAAAAAEAAAAAAAAAAQAAAgAAAAABAAAKAAAAAAEAAAQAAAAAAQAAAAAAAAABAAACAAAAAAEAAAoAAAAAAQAABAAAAAABAAAAAAAAAAEAAAIAAAAAAQAACgAAAAABAAAEAAAAAAEAAAAAAAAAAQAAAgAAAAABAAAKAAAAAAEAAAQAAAAAAQAAAAAAAAABAAACAAAAAAEAAAoAAAAAAQAABAAAAAABAAAAAAAAAAEAAAIAAAAAAQAACgAAAAABAAAEAAAAAAEAAAAAAAAAAQAAAgAAAAABAAAKAAAAAAEAAAQAAAAAAQAAAAAAAAABAAACAAAAAAEAAAoAAAAAAQAABAAAAAABAAAAAAAAAAEAAAIAAAAAAQAACgAAAAABAAAEAAAAAAEAAAAAAAAAAQAAAgAAAAABAAAKAAAAAAEAAAQAAAAAAQAAAAAAAAABAAACAAAAAAEAAAoAAAAAAQAABAAAAAABAAAAAAAAAAEAAAIAAAAAAQAACgAAAAABAAAEAAAAAAEAAAAAAAAAAQAAAgAAAAABAAAKAAAAAAEAAAQAAAAAAQAAAAAAAAABAAACAAAAAAEAAAoAAAAAAQAABAAAAAABAAAAAAAAAAEAAAIAAAAAAQAACgAAAAABAAAEAAAAAAEAAAAAAAAAAQAAAgAAAAABAAAKAAAAAAEAAAQAAAAAAQAAAAAAAAABAAACAAAAAAEAAAoAAAAAAQAABAAAAAABAAAAAAAAAAEAAAIAAAAAAQAACgAAAAABAAAEAAAAAAEAAAAAAAAAAQAAAgAAAAABAAAKAAAAAAEAAAQAAAAAAQAAAAAAAAABAAACAAAAAAEAAAoAAAAAAQAABAAAAAABAAAAAAAAAAEAAAIAAAAAAQAACgAAAAABAAAEAAAAAAEAAAAAAAAAAQAAAgAAAAABAAAKAAAAAAEAAAQAAAAAAQAAAAAAAAABAAACAAAAAAEAAAoAAAAAAQAABAAAAAABAAAAAAAAAAEAAAIAAAAAAQAACAAAAAACAAACAAAAAAEAAAoAAAAAAQAABAAAAAABAAAAAAAAAAEAAAIAAAAAAQAACgAAAAABAAAEAAAAAAEAAAAAAAAAAQAAAgAAAAABAAAKAAAAAAEAAAQAAAAAAQAAAAAAAAABAAACAAAAAAEAAAoAAAAAAQAABAAAAAABAAAAAAAAAAEAAAIAAAAAAQAACgAAAAABAAAEAAAAAAEAAAAAAAAAAQAAAgAAAAABAAAKAAAAAAEAAAQAAAAAAQAAAAAAAAABAAACAAAAAAEAAAoAAAAAAQAABAAAAAABAAAAAAAAAAEAAAIAAAAAAQAACgAAAAABAAAEAAAAAAEAAAAAAAAAAQAAAgAAAAABAAAKAAAAAAEAAAQAAAAAAQAAAAAAAAABAAACAAAAAAEAAAoAAAAAAQAABAAAAAABAAAAAAAAAAEAAAIAAAAAAQAACgAAAAABAAAEAAAAAAEAAAAAAAAAAQAAAgAAAAABAAAKAAAAAAEAAAQAAAAAAQAAAAAAAAABAAACAAAAAAEAAAoAAAAAAQAABAAAAAABAAAAAAAAAAEAAAIAAAAAAQAACgAAAAABAAAEAAAAAAEAAAAAAAAAAQAAAgAAAAABAAAKAAAAAAEAAAQAAAAAAQAAAAAAAAABAAACAAAAAAEAAAoAAAAAAQAABAAAAAABAAAAAAAAAAEAAAIAAAAAAQAACgAAAAABAAAEAAAAAAEAAAAAAAAAAQAAAgAAAAABAAAKAAAAAAEAAAQAAAAAAQAAAAAAAAABAAACAAAAAAEAAAgAAAAAAgAAAgAAAAABAAAKAAAAAAEAAAQAAAAAAQAAAAAAAAABAAACAAAAAAEAAAoAAAAAAQAABAAAAAABAAAAAAAAAAEAAAIAAAAAAQAACgAAAAABAAAEAAAAAAEAAAAAAAAAAQAAAgAAAAABAAAKAAAAAAEAAAQAAAAAAQAAAAAAAAABAAACAAAAAAEAAAgAAAAAAgAAAgAAAAAcc3RzYwAAAAAAAAABAAAAAQAAAMoAAAABAAADPHN0c3oAAAAAAAAAAAAAAMoAAAWNAAAAKgAAAF0AAAA8AAAAEwAAAC0AAABEAAAAEwAAACoAAAAtAAAAFQAAABQAAAATAAAAFwAAABAAAAATAAAAEwAAABcAAAAQAAAAEwAAABMAAAAXAAAAEAAAABMAAAATAAAAFwAAABAAAAATAAAAEwAAABcAAAAQAAAAEwAAABMAAAAXAAAAEAAAABMAAAATAAAAFwAAABAAAAATAAAAEwAAABcAAAAQAAAAEwAAABMAAAAXAAAAEAAAABMAAAATAAAAFwAAABAAAAATAAAAEwAAABcAAAAQAAAAEwAAABMAAAAXAAAAEAAAABMAAAATAAAAFwAAABAAAAATAAAAEwAAABcAAAAQAAAAEwAAABMAAAAgAAAAFAAAABQAAAASAAAAFwAAABAAAAAUAAAAFAAAACAAAAAUAAAAFAAAABMAAAAXAAAAEAAAABMAAAATAAAAFwAAABAAAAATAAAAEwAAABcAAAAQAAAAEwAAABMAAAAXAAAAEAAAABMAAAATAAAAFwAAABAAAAATAAAAEwAAABcAAAAQAAAAEwAAABMAAAAeAAAAFQAAABIAAAAXAAAAEAAAABQAAAATAAAAFwAAABAAAAAUAAAAEwAAABcAAAAQAAAAFAAAABMAAAAXAAAAEAAAABQAAAATAAAAFwAAABAAAAAUAAAAEwAAABcAAAAQAAAAFAAAABMAAAAXAAAAEAAAABQAAAATAAAAFwAAABAAAAAUAAAAEwAAABcAAAAQAAAAFAAAABMAAAAXAAAAEAAAABQAAAATAAAAFwAAABAAAAAUAAAAEwAAABcAAAAQAAAAFAAAABMAAAAXAAAAEAAAABQAAAATAAAAIAAAABQAAAAUAAAAEwAAABcAAAAQAAAAEwAAABMAAAAXAAAAEAAAABMAAAATAAAAIAAAABQAAAAUAAAAEwAAAB4AAAAUAAAAFAAAABMAAAAsAAAAFgAAABQAAAAXAAAAEAAAABQAAAATAAAAFwAAABAAAAAUAAAAEwAAABYAAAAQAAAAFAAAABMAAAAWAAAAEAAAABQAAAATAAAAUwAAACwAAAAmAAAAFHN0Y28AAAAAAAAAAQAAADAAAABidWR0YQAAAFptZXRhAAAAAAAAACFoZGxyAAAAAAAAAABtZGlyYXBwbAAAAAAAAAAAAAAAAC1pbHN0AAAAJal0b28AAAAdZGF0YQAAAAEAAAAATGF2ZjU3LjgzLjEwMA==\" type=\"video/mp4\" />\n",
              "             </video>"
            ],
            "text/plain": [
              "<IPython.core.display.HTML object>"
            ]
          },
          "metadata": {
            "tags": []
          },
          "execution_count": 45
        }
      ]
    },
    {
      "cell_type": "code",
      "metadata": {
        "colab_type": "code",
        "id": "vh7KbuEJN85F",
        "outputId": "e91b9d0d-a5af-4d42-c598-b050658b7ba4",
        "colab": {
          "base_uri": "https://localhost:8080/",
          "height": 171
        }
      },
      "source": [
        "HTML(display_videos('fc_test10.mp4'))"
      ],
      "execution_count": 46,
      "outputs": [
        {
          "output_type": "execute_result",
          "data": {
            "text/html": [
              "<video alt=\"test\" controls>\n",
              "                <source src=\"data:video/mp4;base64,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\" type=\"video/mp4\" />\n",
              "             </video>"
            ],
            "text/plain": [
              "<IPython.core.display.HTML object>"
            ]
          },
          "metadata": {
            "tags": []
          },
          "execution_count": 46
        }
      ]
    },
    {
      "cell_type": "markdown",
      "metadata": {
        "colab_type": "text",
        "id": "mcilvdV0N85M"
      },
      "source": [
        "The main issue observed is that the rat does not seem to explore much. Indeed, it seems often stuck and keeps bouncing off a wall for example.\n",
        "\n",
        "Note that was have also changed the temperature in the code above, which reflects the probabity of a cell to contain cheese, and is close to the probability of a cell containing poison. Note that the higher the temperature, the higher the score as there is more cheese than temperature. In the extreme case where the temperature is $1$, all the board is filled with cheese. Any strategy where the rat \"explores\", ie does not come back to a already visited cell will be good. This is an example that motivates the idea 2. in the next question below."
      ]
    },
    {
      "cell_type": "markdown",
      "metadata": {
        "colab_type": "text",
        "id": "HAlulF8bN85P"
      },
      "source": [
        "***\n",
        "\n",
        "The algorithm tends to not explore the map which can be an issue. We propose two ideas in order to encourage exploration:\n",
        "1. Incorporating a decreasing $\\epsilon$-greedy exploration. You can use the method ```set_epsilon```\n",
        "2. Append via the environment a new state that describes if a cell has been visited or not\n",
        "\n",
        "***\n",
        "__Question 10__ Design a new ```train_explore``` function and environment class ```EnvironmentExploring``` to tackle the issue of exploration.\n",
        "\n"
      ]
    },
    {
      "cell_type": "code",
      "metadata": {
        "colab_type": "code",
        "id": "CFgg4J__N85Q",
        "colab": {}
      },
      "source": [
        "def set_epsilon(epsilon, epoch, threshold=0.1):\n",
        "    temp = epsilon * ((epoch + 1) / (epoch + 2))\n",
        "    if temp < threshold:\n",
        "        return threshold\n",
        "    else:\n",
        "        return temp\n",
        "\n",
        "def train_explore(agent, env, epoch, prefix=''):\n",
        "    # Number of won games\n",
        "    score = 0\n",
        "    loss = 0\n",
        "    agent.epsilon = 1.0\n",
        "\n",
        "    for e in tqdm.tqdm_notebook(range(epoch)):\n",
        "        # At each epoch, we restart to a fresh game and get the initial state\n",
        "        state = env.reset()\n",
        "\n",
        "        # This assumes that the games will terminate\n",
        "        game_over = False\n",
        "\n",
        "        win = 0\n",
        "        lose = 0\n",
        "        \n",
        "        # update the exploration parameter (epsilon)\n",
        "        agent.epsilon = set_epsilon(agent.epsilon, e) \n",
        "\n",
        "        while not game_over:\n",
        "            # The agent performs an action\n",
        "            if prefix == 'cnn_train_explore':\n",
        "                action = agent.learned_act(state.flatten().reshape(1, 5, 5, 3)) # take action with the agent\n",
        "            else:\n",
        "                return np.nan\n",
        " \n",
        "            # Apply an action to the environment, get the next state, the reward\n",
        "            # and if the games end\n",
        "            prev_state = state\n",
        "            state, reward, game_over = env.act(action, train=True)\n",
        "\n",
        "            # Update the counters\n",
        "            if reward > 0:\n",
        "                win = win + reward\n",
        "            if reward < 0:\n",
        "                lose = lose - reward\n",
        "\n",
        "            # Apply the reinforcement strategy\n",
        "            loss = agent.reinforce(prev_state, state,  action, reward, game_over, prefix)\n",
        "\n",
        "        # Save as a mp4\n",
        "        if e % 10 == 0:\n",
        "            env.draw(prefix + str(e))\n",
        "\n",
        "        # Update stats\n",
        "        score += win - lose\n",
        "\n",
        "        print(f\"Epoch {e}/{epoch}, loss {round(np.float64(loss), 4)}, win/lose count {win}/{lose} ({win - lose})\")\n",
        "        agent.save(name_weights=prefix+'model.h5',name_model=prefix+'model.json')\n",
        "        \n",
        "class EnvironmentExploring(object):\n",
        "    def __init__(self, grid_size=10, max_time=500, temperature=0.1):\n",
        "        \n",
        "        self.env = Environment(grid_size=size, max_time=max_time, temperature=temperature)\n",
        "        self.malus_position = np.zeros((grid_size, grid_size)) # places we already visited\n",
        "        \n",
        "    def act(self, action, train=True):\n",
        "            \n",
        "        ###Instead of repeating all the environment from before, we simply take it, and add what we need here, which is everything related to the mlus_already_visited.\n",
        "        \n",
        "        # first update then env \n",
        "        state, reward, game_over = self.env.act(action)\n",
        "        \n",
        "        # get malus if we already visited (x, y), only in train mode\n",
        "        if train:\n",
        "            malus_already_visited = - self.malus_position[self.env.x, self.env.y]\n",
        "        else:\n",
        "            malus_already_visited = 0\n",
        "            \n",
        "        # update the malus_position array\n",
        "        self.malus_position[self.env.x, self.env.y] = 0.1\n",
        "\n",
        "        # finally we update the reward by considering the malus_position score\n",
        "        reward += malus_already_visited\n",
        "    \n",
        "        \n",
        "        # 3-feature state instead of 2\n",
        "        malus_position_visible = self.malus_position[self.env.x - 2:self.env.x + 3, self.env.y - 2:self.env.y + 3]\n",
        "        state = np.concatenate((malus_position_visible.reshape(5, 5, 1), state), axis=2)\n",
        "        \n",
        "        return state, reward, game_over\n",
        "    \n",
        "    def draw(self, e):\n",
        "        self.env.draw(e)\n",
        "    \n",
        "    def reset(self):\n",
        "        \n",
        "        # call the Environment reset function\n",
        "        state = self.env.reset()\n",
        "        \n",
        "        # reset the malus_position array\n",
        "        self.malus_position = np.zeros((self.env.grid_size, self.env.grid_size))\n",
        "        \n",
        "        # 3-feature state instead of 2\n",
        "        malus_position_visible = self.malus_position[self.env.x - 2:self.env.x + 3, self.env.y - 2:self.env.y + 3]\n",
        "        state = np.concatenate((malus_position_visible.reshape(5, 5, 1), state), axis=2)\n",
        "        \n",
        "        return state"
      ],
      "execution_count": 0,
      "outputs": []
    },
    {
      "cell_type": "code",
      "metadata": {
        "colab_type": "code",
        "id": "_F3lrnywN85V",
        "outputId": "8146f64c-839c-4e8a-d7cb-5a3b87503888",
        "colab": {
          "base_uri": "https://localhost:8080/",
          "height": 716,
          "referenced_widgets": [
            "1eb543c479d542b2be015280255a72b7",
            "bb5763e5a8094b399a52b22eac4535ab",
            "59987aa402e34417b45b9417dfb0b616",
            "3cc2d5712893467b92950c72aa5b282d",
            "35d04aac9e2f494fb72c7238b519fde7",
            "7e2c70222f3c4220b6df2911c3f7122a",
            "235f3375e267400f8b23702654a749b1",
            "585d1f230d80449b843073f1754d628f"
          ]
        }
      },
      "source": [
        "# Training\n",
        "epochs_train = 21\n",
        "env = EnvironmentExploring(grid_size=size, max_time=T, temperature=0.3)\n",
        "agent = DQN_CNN(size, lr=0.001, epsilon=0.1, memory_size=2000, batch_size=32, n_state=3)\n",
        "train_explore(agent, env, epochs_train, prefix='cnn_train_explore')\n",
        "HTML(display_videos('cnn_train_explore10.mp4'))"
      ],
      "execution_count": 48,
      "outputs": [
        {
          "output_type": "display_data",
          "data": {
            "application/vnd.jupyter.widget-view+json": {
              "model_id": "1eb543c479d542b2be015280255a72b7",
              "version_minor": 0,
              "version_major": 2
            },
            "text/plain": [
              "HBox(children=(IntProgress(value=0, max=21), HTML(value='')))"
            ]
          },
          "metadata": {
            "tags": []
          }
        },
        {
          "output_type": "stream",
          "text": [
            "Epoch 0/21, loss 0.013, win/lose count 9.0/24.10000000000009 (-15.10000000000009)\n",
            "Epoch 1/21, loss 0.0182, win/lose count 9.5/21.89999999999999 (-12.399999999999991)\n",
            "Epoch 2/21, loss 0.0161, win/lose count 20.5/18.09999999999997 (2.4000000000000306)\n",
            "Epoch 3/21, loss 0.0088, win/lose count 17.0/20.599999999999994 (-3.5999999999999943)\n",
            "Epoch 4/21, loss 0.0204, win/lose count 22.5/22.300000000000008 (0.19999999999999218)\n",
            "Epoch 5/21, loss 0.0245, win/lose count 24.5/16.49999999999997 (8.000000000000028)\n",
            "Epoch 6/21, loss 0.0226, win/lose count 16.5/21.80000000000006 (-5.300000000000061)\n",
            "Epoch 7/21, loss 0.0186, win/lose count 8.0/24.400000000000084 (-16.400000000000084)\n",
            "Epoch 8/21, loss 0.0195, win/lose count 22.0/18.800000000000004 (3.1999999999999957)\n",
            "Epoch 9/21, loss 0.0292, win/lose count 22.5/14.699999999999969 (7.800000000000031)\n",
            "Epoch 10/21, loss 0.035, win/lose count 22.0/17.39999999999997 (4.60000000000003)\n",
            "Epoch 11/21, loss 0.0305, win/lose count 30.0/16.099999999999973 (13.900000000000027)\n",
            "Epoch 12/21, loss 0.0154, win/lose count 23.5/15.499999999999977 (8.000000000000023)\n",
            "Epoch 13/21, loss 0.0257, win/lose count 25.5/16.099999999999977 (9.400000000000023)\n",
            "Epoch 14/21, loss 0.0271, win/lose count 25.0/23.200000000000053 (1.7999999999999474)\n",
            "Epoch 15/21, loss 0.0238, win/lose count 26.0/16.499999999999982 (9.500000000000018)\n",
            "Epoch 16/21, loss 0.0216, win/lose count 22.5/19.50000000000003 (2.9999999999999716)\n",
            "Epoch 17/21, loss 0.0244, win/lose count 22.5/21.600000000000055 (0.8999999999999453)\n",
            "Epoch 18/21, loss 0.0156, win/lose count 24.5/22.300000000000004 (2.1999999999999957)\n",
            "Epoch 19/21, loss 0.0459, win/lose count 28.0/21.700000000000042 (6.299999999999958)\n",
            "Epoch 20/21, loss 0.0151, win/lose count 27.0/16.99999999999998 (10.000000000000021)\n",
            "\n"
          ],
          "name": "stdout"
        },
        {
          "output_type": "execute_result",
          "data": {
            "text/html": [
              "<video alt=\"test\" controls>\n",
              "                <source src=\"data:video/mp4;base64,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\" type=\"video/mp4\" />\n",
              "             </video>"
            ],
            "text/plain": [
              "<IPython.core.display.HTML object>"
            ]
          },
          "metadata": {
            "tags": []
          },
          "execution_count": 48
        }
      ]
    },
    {
      "cell_type": "code",
      "metadata": {
        "colab_type": "code",
        "id": "-8BYes-SN85b",
        "outputId": "2a1db61d-a29d-4e4b-e8a8-300b1bc9df0e",
        "colab": {
          "base_uri": "https://localhost:8080/",
          "height": 506
        }
      },
      "source": [
        "# Evaluation\n",
        "test(agent, env, epochs_test, prefix='cnn_test_explore')\n",
        "HTML(display_videos('cnn_test_explore9.mp4'))"
      ],
      "execution_count": 49,
      "outputs": [
        {
          "output_type": "stream",
          "text": [
            "Epoch 0, win/lose count 15.0/7.0, average score (8.0)\n",
            "Epoch 1, win/lose count 18.5/5.0, average score (10.75)\n",
            "Epoch 2, win/lose count 15.0/4.0, average score (10.83)\n",
            "Epoch 3, win/lose count 14.0/3.0, average score (10.88)\n",
            "Epoch 4, win/lose count 18.0/7.0, average score (10.9)\n",
            "Epoch 5, win/lose count 14.5/8.0, average score (10.17)\n",
            "Epoch 6, win/lose count 17.5/2.0, average score (10.93)\n",
            "Epoch 7, win/lose count 14.5/2.0, average score (11.12)\n",
            "Epoch 8, win/lose count 24.0/5.0, average score (12.0)\n",
            "Epoch 9, win/lose count 20.0/5.0, average score (12.3)\n",
            "Epoch 10, win/lose count 13.5/1.0, average score (12.32)\n",
            "Final score: 12.318181818181818\n"
          ],
          "name": "stdout"
        },
        {
          "output_type": "execute_result",
          "data": {
            "text/html": [
              "<video alt=\"test\" controls>\n",
              "                <source src=\"data:video/mp4;base64,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\" type=\"video/mp4\" />\n",
              "             </video>"
            ],
            "text/plain": [
              "<IPython.core.display.HTML object>"
            ]
          },
          "metadata": {
            "tags": []
          },
          "execution_count": 49
        }
      ]
    },
    {
      "cell_type": "markdown",
      "metadata": {
        "colab_type": "text",
        "id": "4vAQNfIfN85h"
      },
      "source": [
        "***\n",
        "***\n",
        "__BONUS question__ Use the expert DQN from the previous question to generate some winning games. Train a model that mimicks its behavior. Compare the performances."
      ]
    },
    {
      "cell_type": "markdown",
      "metadata": {
        "colab_type": "text",
        "id": "rFRZBGW4N85i"
      },
      "source": [
        ""
      ]
    },
    {
      "cell_type": "markdown",
      "metadata": {
        "colab_type": "text",
        "id": "HutWDrV5N85k"
      },
      "source": [
        "***"
      ]
    }
  ]
}